{
 "cells": [
  {
   "cell_type": "markdown",
   "metadata": {},
   "source": [
    "# Train and Optimize\n",
    "\n",
    "Train a neural network on Treehouse gene expression to classify disease"
   ]
  },
  {
   "cell_type": "code",
   "execution_count": 2,
   "metadata": {},
   "outputs": [
    {
     "name": "stdout",
     "output_type": "stream",
     "text": [
      "Tensorflow version 2.0.0-beta0\n"
     ]
    }
   ],
   "source": [
    "import sys\n",
    "import os\n",
    "import json\n",
    "import pandas as pd\n",
    "import numpy as np\n",
    "import tensorflow as tf\n",
    "\n",
    "print(\"Tensorflow version\", tf.__version__)\n",
    "\n",
    "# fix random seed for reproducibility\n",
    "np.random.seed(42)\n",
    "\n",
    "os.chdir(os.path.expanduser(\"~/data/treehouse\"))"
   ]
  },
  {
   "cell_type": "markdown",
   "metadata": {},
   "source": [
    "## Load and Wrangle Data"
   ]
  },
  {
   "cell_type": "code",
   "execution_count": 4,
   "metadata": {},
   "outputs": [
    {
     "name": "stdout",
     "output_type": "stream",
     "text": [
      "Loaded 10208 samples with 5545 features and 4 labels\n"
     ]
    }
   ],
   "source": [
    "X = pd.read_hdf(os.path.expanduser(\"treehouse-pruned.h5\"), \"samples\")\n",
    "Y = pd.read_hdf(os.path.expanduser(\"treehouse-pruned.h5\"), \"labels\")\n",
    "print(\"Loaded {} samples with {} features and {} labels\".format(X.shape[0], X.shape[1], Y.shape[1]))"
   ]
  },
  {
   "cell_type": "code",
   "execution_count": 10,
   "metadata": {},
   "outputs": [],
   "source": [
    "# Create a multi-label one-hot for tumor/normal and primary site\n",
    "from sklearn.preprocessing import LabelEncoder\n",
    "\n",
    "disease_encoder = LabelEncoder()\n",
    "Y[\"disease_value\"] = pd.Series(\n",
    "    primary_site_encoder.fit_transform(Y[\"disease\"]), index=Y.index, dtype='int32')\n",
    "\n",
    "Y_onehot = tf.keras.utils.to_categorical(Y[\"disease_value\"])"
   ]
  },
  {
   "cell_type": "code",
   "execution_count": 11,
   "metadata": {},
   "outputs": [
    {
     "name": "stdout",
     "output_type": "stream",
     "text": [
      "Train: (8166, 5545) Test: (2042, 5545)\n"
     ]
    }
   ],
   "source": [
    "# Split into training and test sets strattified on disease\n",
    "from sklearn.model_selection import StratifiedShuffleSplit\n",
    "split = StratifiedShuffleSplit(n_splits=1, test_size=0.2, random_state=42)\n",
    "\n",
    "for train_index, test_index in split.split(X.values, Y.disease_value):\n",
    "    X_train = X.values[train_index]\n",
    "    X_test = X.values[test_index]\n",
    "    Y_train = Y.iloc[train_index]\n",
    "    Y_test = Y.iloc[test_index]\n",
    "    Y_onehot_train = Y_onehot[train_index]\n",
    "    Y_onehot_test = Y_onehot[test_index]\n",
    "    \n",
    "print(\"Train:\", X_train.shape, \"Test:\", X_test.shape)"
   ]
  },
  {
   "cell_type": "code",
   "execution_count": 13,
   "metadata": {},
   "outputs": [
    {
     "data": {
      "image/png": "[encoded data removed]",
      "text/plain": [
       "<Figure size 432x288 with 1 Axes>"
      ]
     },
     "metadata": {
      "needs_background": "light"
     },
     "output_type": "display_data"
    }
   ],
   "source": [
    "import matplotlib.pyplot as plt\n",
    "\n",
    "# Lets see how big each class is based on primary site\n",
    "plt.hist(Y_train.disease_value.values, alpha=0.5, label='Train')\n",
    "plt.hist(Y_test.disease_value.values, alpha=0.5, label='Test')\n",
    "plt.legend(loc='upper right')\n",
    "plt.title(\"Disease distribution between train and test sets\")\n",
    "plt.show()"
   ]
  },
  {
   "cell_type": "markdown",
   "metadata": {},
   "source": [
    "## Build and Train Model"
   ]
  },
  {
   "cell_type": "code",
   "execution_count": 15,
   "metadata": {},
   "outputs": [
    {
     "name": "stdout",
     "output_type": "stream",
     "text": [
      "Model: \"model_1\"\n",
      "_________________________________________________________________\n",
      "Layer (type)                 Output Shape              Param #   \n",
      "=================================================================\n",
      "input_2 (InputLayer)         [(None, 5545)]            0         \n",
      "_________________________________________________________________\n",
      "batch_normalization_1 (Batch (None, 5545)              22180     \n",
      "_________________________________________________________________\n",
      "dense_3 (Dense)              (None, 32)                177472    \n",
      "_________________________________________________________________\n",
      "dropout_2 (Dropout)          (None, 32)                0         \n",
      "_________________________________________________________________\n",
      "dense_4 (Dense)              (None, 32)                1056      \n",
      "_________________________________________________________________\n",
      "dropout_3 (Dropout)          (None, 32)                0         \n",
      "_________________________________________________________________\n",
      "dense_5 (Dense)              (None, 29)                957       \n",
      "=================================================================\n",
      "Total params: 201,665\n",
      "Trainable params: 190,575\n",
      "Non-trainable params: 11,090\n",
      "_________________________________________________________________\n",
      "Train on 8166 samples\n",
      "Epoch 1/10\n",
      "8166/8166 [==============================] - 4s 477us/sample - loss: 0.6474 - acc: 0.6521\n",
      "Epoch 2/10\n",
      "8166/8166 [==============================] - 3s 423us/sample - loss: 0.2723 - acc: 0.9031\n",
      "Epoch 3/10\n",
      "8166/8166 [==============================] - 3s 425us/sample - loss: 0.1826 - acc: 0.9454\n",
      "Epoch 4/10\n",
      "8166/8166 [==============================] - 3s 401us/sample - loss: 0.1536 - acc: 0.9552\n",
      "Epoch 5/10\n",
      "8166/8166 [==============================] - 3s 399us/sample - loss: 0.1346 - acc: 0.9607\n",
      "Epoch 6/10\n",
      "8166/8166 [==============================] - 3s 421us/sample - loss: 0.1219 - acc: 0.9636\n",
      "Epoch 00006: early stopping\n",
      "2042/2042 [==============================] - 1s 331us/sample - loss: 0.0525 - acc: 0.9803\n",
      "['loss', 'acc'] [0.0524578418922004, 0.9802594]\n"
     ]
    }
   ],
   "source": [
    "def create_model(input_shape, output_shape, params):\n",
    "    inputs = tf.keras.layers.Input(shape=(input_shape,))\n",
    "\n",
    "    x = tf.keras.layers.BatchNormalization()(inputs)\n",
    "\n",
    "    x = tf.keras.layers.Dense(32, activation=\"relu\")(x)\n",
    "    x = tf.keras.layers.Dropout(0.5)(x)\n",
    "    \n",
    "    x = tf.keras.layers.Dense(32, activation=\"relu\")(x)\n",
    "    x = tf.keras.layers.Dropout(0.5)(x)\n",
    "    \n",
    "    outputs = tf.keras.layers.Dense(output_shape, activation=\"sigmoid\")(x)\n",
    "    \n",
    "    model = tf.keras.models.Model(inputs=inputs, outputs=outputs)\n",
    "    model.compile(loss=\"binary_crossentropy\", optimizer=\"adam\", metrics=[\"acc\"])\n",
    "    return model\n",
    "\n",
    "model = create_model(X_train.shape[1], Y_onehot_train.shape[1], {})\n",
    "model.summary()\n",
    "\n",
    "callbacks = [tf.keras.callbacks.EarlyStopping(monitor=\"acc\", min_delta=0.05, patience=2, verbose=2, mode=\"max\")]\n",
    "model.fit(X_train, Y_onehot_train, epochs=10, batch_size=128, shuffle=\"batch\", callbacks=callbacks)\n",
    "print(model.metrics_names, model.evaluate(X_test, Y_onehot_test))"
   ]
  },
  {
   "cell_type": "code",
   "execution_count": 17,
   "metadata": {},
   "outputs": [],
   "source": [
    "# Save the model to disk so we can load, evaluate, infer and explain independantly\n",
    "with open(\"params.json\", \"w\") as f:\n",
    "    f.write(json.dumps({\n",
    "        \"disease\": primary_site_encoder.classes_.tolist(),\n",
    "        \"train_indices\": train_index.tolist(),\n",
    "        \"test_indices\": test_index.tolist()}))\n",
    "    \n",
    "model.save(\"model.h5\")"
   ]
  }
 ],
 "metadata": {
  "kernelspec": {
   "display_name": "Python 3",
   "language": "python",
   "name": "python3"
  },
  "language_info": {
   "codemirror_mode": {
    "name": "ipython",
    "version": 3
   },
   "file_extension": ".py",
   "mimetype": "text/x-python",
   "name": "python",
   "nbconvert_exporter": "python",
   "pygments_lexer": "ipython3",
   "version": "3.6.7"
  }
 },
 "nbformat": 4,
 "nbformat_minor": 2
}
