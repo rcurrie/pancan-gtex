{
 "cells": [
  {
   "cell_type": "markdown",
   "metadata": {},
   "source": [
    "# Train and Optimize\n",
    "\n",
    "Train a neural network on TCGA+GTEX gene expression to classify tissue/disease"
   ]
  },
  {
   "cell_type": "code",
   "execution_count": 1,
   "metadata": {},
   "outputs": [],
   "source": [
    "import sys\n",
    "import os\n",
    "import json\n",
    "import pandas as pd\n",
    "import numpy as np\n",
    "import tensorflow as tf\n",
    "\n",
    "# fix random seed for reproducibility\n",
    "np.random.seed(42)\n",
    "\n",
    "!mkdir -p ~/data/pancan-gtex\n",
    "os.chdir(os.path.expanduser(\"~/data/pancan-gtex\"))"
   ]
  },
  {
   "cell_type": "markdown",
   "metadata": {},
   "source": [
    "## Load and Wrangle Data"
   ]
  },
  {
   "cell_type": "code",
   "execution_count": 2,
   "metadata": {},
   "outputs": [
    {
     "name": "stdout",
     "output_type": "stream",
     "text": [
      "Loaded 17277 samples with 44792 features and 40 labels\n"
     ]
    }
   ],
   "source": [
    "X = pd.read_hdf(os.path.expanduser(\"pancan-gtex-hugo.h5\"), \"samples\")\n",
    "Y = pd.read_hdf(os.path.expanduser(\"pancan-gtex-hugo.h5\"), \"labels\")\n",
    "print(\"Loaded {} samples with {} features and {} labels\".format(X.shape[0], X.shape[1], Y.shape[1]))"
   ]
  },
  {
   "cell_type": "code",
   "execution_count": 3,
   "metadata": {},
   "outputs": [
    {
     "data": {
      "text/plain": [
       "GTEX-1117F-0226-SM-5GZZ7    1.000000e+06\n",
       "GTEX-OHPK-0226-SM-3MJH6     1.000000e+06\n",
       "GTEX-ZXG5-0326-SM-5GICH     1.000001e+06\n",
       "TCGA-BA-5556-01             1.000000e+06\n",
       "TCGA-EM-A2OW-01             1.000003e+06\n",
       "TCGA-ZT-A8OM-01             9.999993e+05\n",
       "dtype: float32"
      ]
     },
     "execution_count": 3,
     "metadata": {},
     "output_type": "execute_result"
    }
   ],
   "source": [
    "# Check that we still sum to roughly 1M net of dropped transcripts due to no mapping\n",
    "X.iloc[::X.shape[0]//5].sum(axis=\"columns\")"
   ]
  },
  {
   "cell_type": "code",
   "execution_count": 4,
   "metadata": {},
   "outputs": [
    {
     "name": "stdout",
     "output_type": "stream",
     "text": [
      "Pruning to only include KEGG pathway genes\n",
      "Pruned expression to only include 5169 genes\n"
     ]
    }
   ],
   "source": [
    "# Prune X to only KEGG pathway genes\n",
    "with open(\"c2.cp.kegg.v6.2.symbols.gmt\") as f:\n",
    "    subset_of_genes = list(set().union(*[line.strip().split(\"\\t\")[2:] for line in f.readlines()]))\n",
    "print(\"Pruning to only include KEGG pathway genes\")\n",
    "\n",
    "# # Prune X to only Cosmic Cancer Genes\n",
    "# print(\"Pruning to only COSMIC genes\")\n",
    "# subset_of_genes = pd.read_table(\"cosmic-26-11-2018.tsv\")[\"Gene Symbol\"].values\n",
    "    \n",
    "pruned_X = X.drop(labels=(set(X.columns) - set(subset_of_genes)), axis=1)\n",
    "\n",
    "# Order must match dataframe so we can use this as labels for shap\n",
    "genes = list(pruned_X.columns.values)\n",
    "print(\"Pruned expression to only include\", len(genes), \"genes\")\n",
    "\n",
    "# Create a multi-label one-hot for tumor/normal and primary site\n",
    "from sklearn.preprocessing import LabelEncoder\n",
    "\n",
    "primary_site_encoder = LabelEncoder()\n",
    "Y[\"primary_site_value\"] = pd.Series(\n",
    "    primary_site_encoder.fit_transform(Y[\"_primary_site\"]), index=Y.index, dtype='int32')\n",
    "\n",
    "tumor_normal_encoder = LabelEncoder()\n",
    "Y[\"tumor_normal_value\"] = pd.Series(\n",
    "    tumor_normal_encoder.fit_transform(Y[\"tumor_normal\"]), index=Y.index, dtype='int32')\n",
    "\n",
    "Y_onehot = np.append(\n",
    "    Y[\"tumor_normal_value\"].values.reshape(Y.shape[0],-1), \n",
    "    tf.keras.utils.to_categorical(Y[\"primary_site_value\"]), axis=1)"
   ]
  },
  {
   "cell_type": "code",
   "execution_count": 5,
   "metadata": {},
   "outputs": [
    {
     "data": {
      "text/plain": [
       "GTEX-1117F-0226-SM-5GZZ7    437661.5000\n",
       "GTEX-OHPK-0226-SM-3MJH6     354934.9375\n",
       "GTEX-ZXG5-0326-SM-5GICH     328366.5000\n",
       "TCGA-BA-5556-01             418472.6250\n",
       "TCGA-EM-A2OW-01             301706.4375\n",
       "TCGA-ZT-A8OM-01             590327.1250\n",
       "dtype: float32"
      ]
     },
     "execution_count": 5,
     "metadata": {},
     "output_type": "execute_result"
    }
   ],
   "source": [
    "# See what the TPM levels remaining are after the pruning\n",
    "pruned_X.iloc[::pruned_X.shape[0]//5].sum(axis=\"columns\")"
   ]
  },
  {
   "cell_type": "code",
   "execution_count": 6,
   "metadata": {},
   "outputs": [
    {
     "data": {
      "text/plain": [
       "590327.1"
      ]
     },
     "execution_count": 6,
     "metadata": {},
     "output_type": "execute_result"
    }
   ],
   "source": [
    "pruned_X.loc[\"TCGA-ZT-A8OM-01\"].sum()"
   ]
  },
  {
   "cell_type": "code",
   "execution_count": 7,
   "metadata": {},
   "outputs": [
    {
     "name": "stdout",
     "output_type": "stream",
     "text": [
      "Train: (13821, 5169) Test: (3456, 5169)\n"
     ]
    }
   ],
   "source": [
    "# Split into training and test sets strattified on primary site\n",
    "from sklearn.model_selection import StratifiedShuffleSplit\n",
    "split = StratifiedShuffleSplit(n_splits=1, test_size=0.2, random_state=42)\n",
    "\n",
    "for train_index, test_index in split.split(X.values, Y.primary_site_value):\n",
    "    X_train = pruned_X.values[train_index]\n",
    "    X_test = pruned_X.values[test_index]\n",
    "    Y_train = Y.iloc[train_index]\n",
    "    Y_test = Y.iloc[test_index]\n",
    "    Y_onehot_train = Y_onehot[train_index]\n",
    "    Y_onehot_test = Y_onehot[test_index]\n",
    "    \n",
    "print(\"Train:\", X_train.shape, \"Test:\", X_test.shape)"
   ]
  },
  {
   "cell_type": "code",
   "execution_count": 8,
   "metadata": {},
   "outputs": [
    {
     "data": {
      "text/plain": [
       "<Figure size 640x480 with 1 Axes>"
      ]
     },
     "metadata": {},
     "output_type": "display_data"
    },
    {
     "data": {
      "text/plain": [
       "<Figure size 640x480 with 1 Axes>"
      ]
     },
     "metadata": {},
     "output_type": "display_data"
    }
   ],
   "source": [
    "import matplotlib.pyplot as plt\n",
    "\n",
    "# Lets see how big each class is based on primary site\n",
    "plt.hist(Y_train.primary_site_value.values, alpha=0.5, label='Train')\n",
    "plt.hist(Y_test.primary_site_value.values, alpha=0.5, label='Test')\n",
    "plt.legend(loc='upper right')\n",
    "plt.title(\"Primary site distribution between train and test sets\")\n",
    "plt.show()\n",
    "\n",
    "# Lets see how big each class is based tumor/normal\n",
    "plt.hist(Y_train.tumor_normal_value.values, alpha=0.5, label='Train')\n",
    "plt.hist(Y_test.tumor_normal_value.values, alpha=0.5, label='Test')\n",
    "plt.legend(loc='upper right')\n",
    "plt.title(\"Tumor/normal distribution between train and test sets\")\n",
    "plt.show()"
   ]
  },
  {
   "cell_type": "markdown",
   "metadata": {},
   "source": [
    "## Build and Train Model"
   ]
  },
  {
   "cell_type": "code",
   "execution_count": 9,
   "metadata": {},
   "outputs": [
    {
     "name": "stdout",
     "output_type": "stream",
     "text": [
      "_________________________________________________________________\n",
      "Layer (type)                 Output Shape              Param #   \n",
      "=================================================================\n",
      "input_1 (InputLayer)         (None, 5169)              0         \n",
      "_________________________________________________________________\n",
      "batch_normalization (BatchNo (None, 5169)              20676     \n",
      "_________________________________________________________________\n",
      "dense (Dense)                (None, 64)                330880    \n",
      "_________________________________________________________________\n",
      "dropout (Dropout)            (None, 64)                0         \n",
      "_________________________________________________________________\n",
      "dense_1 (Dense)              (None, 64)                4160      \n",
      "_________________________________________________________________\n",
      "dropout_1 (Dropout)          (None, 64)                0         \n",
      "_________________________________________________________________\n",
      "dense_2 (Dense)              (None, 34)                2210      \n",
      "=================================================================\n",
      "Total params: 357,926\n",
      "Trainable params: 347,588\n",
      "Non-trainable params: 10,338\n",
      "_________________________________________________________________\n",
      "Epoch 1/10\n",
      "13821/13821 [==============================] - 4s 287us/step - loss: 0.3240 - acc: 0.8566\n",
      "Epoch 2/10\n",
      "13821/13821 [==============================] - 3s 237us/step - loss: 0.1100 - acc: 0.9648\n",
      "Epoch 3/10\n",
      "13821/13821 [==============================] - 3s 240us/step - loss: 0.0780 - acc: 0.9744\n",
      "Epoch 4/10\n",
      "13821/13821 [==============================] - 4s 280us/step - loss: 0.0628 - acc: 0.9789\n",
      "Epoch 00004: early stopping\n",
      "3456/3456 [==============================] - 1s 225us/step\n",
      "['loss', 'acc'] [0.018952958842015102, 0.9946725186374452]\n"
     ]
    }
   ],
   "source": [
    "def create_model(input_shape, output_shape, params):\n",
    "    inputs = tf.keras.layers.Input(shape=(input_shape,))\n",
    "\n",
    "    x = tf.keras.layers.BatchNormalization()(inputs)\n",
    "\n",
    "    x = tf.keras.layers.Dense(64, activation=\"relu\")(x)\n",
    "    x = tf.keras.layers.Dropout(0.5)(x)\n",
    "    \n",
    "    x = tf.keras.layers.Dense(64, activation=\"relu\")(x)\n",
    "    x = tf.keras.layers.Dropout(0.5)(x)\n",
    "    \n",
    "    outputs = tf.keras.layers.Dense(output_shape, activation=\"sigmoid\")(x)\n",
    "    \n",
    "    model = tf.keras.models.Model(inputs=inputs, outputs=outputs)\n",
    "    model.compile(loss=\"binary_crossentropy\", optimizer=\"adam\", metrics=[\"acc\"])\n",
    "    return model\n",
    "\n",
    "model = create_model(X_train.shape[1], Y_onehot_train.shape[1], {})\n",
    "model.summary()\n",
    "\n",
    "callbacks = [tf.keras.callbacks.EarlyStopping(monitor=\"acc\", min_delta=0.05, patience=2, verbose=2, mode=\"max\")]\n",
    "model.fit(X_train, Y_onehot_train, epochs=10, batch_size=128, shuffle=\"batch\", callbacks=callbacks)\n",
    "print(model.metrics_names, model.evaluate(X_test, Y_onehot_test))"
   ]
  },
  {
   "cell_type": "code",
   "execution_count": 10,
   "metadata": {},
   "outputs": [],
   "source": [
    "# Save the model to disk so we can load, evaluate, infer and explain independantly\n",
    "!mkdir -p ~/data/pancan-gtex/models\n",
    "\n",
    "# See https://github.com/h5py/h5py/issues/712\n",
    "os.environ[\"HDF5_USE_FILE_LOCKING\"] = \"FALSE\"\n",
    "\n",
    "with open(\"models/pancan-gtex-hugo-params.json\", \"w\") as f:\n",
    "    f.write(json.dumps({\n",
    "        \"tumor_normal\": tumor_normal_encoder.classes_.tolist(),\n",
    "        \"primary_site\": primary_site_encoder.classes_.tolist(),\n",
    "        \"genes\": genes,\n",
    "        \"train_indices\": train_index.tolist(),\n",
    "        \"test_indices\": test_index.tolist()}))\n",
    "\n",
    "with open(\"models/pancan-gtex-hugo-model.json\", \"w\") as f:\n",
    "    f.write(model.to_json())\n",
    "\n",
    "model.save_weights(\"models/pancan-gtex-hugo-weights.h5\")"
   ]
  }
 ],
 "metadata": {
  "kernelspec": {
   "display_name": "Python 3",
   "language": "python",
   "name": "python3"
  },
  "language_info": {
   "codemirror_mode": {
    "name": "ipython",
    "version": 3
   },
   "file_extension": ".py",
   "mimetype": "text/x-python",
   "name": "python",
   "nbconvert_exporter": "python",
   "pygments_lexer": "ipython3",
   "version": "3.5.2"
  }
 },
 "nbformat": 4,
 "nbformat_minor": 2
}
