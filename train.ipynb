{
 "cells": [
  {
   "cell_type": "markdown",
   "metadata": {},
   "source": [
    "# Train and Optimize\n",
    "\n",
    "Train a neural network on TCGA+GTEX gene expression to classify tissue/disease"
   ]
  },
  {
   "cell_type": "code",
   "execution_count": 1,
   "metadata": {},
   "outputs": [],
   "source": [
    "import sys\n",
    "import os\n",
    "import json\n",
    "import pandas as pd\n",
    "import numpy as np\n",
    "\n",
    "# fix random seed for reproducibility\n",
    "np.random.seed(42)"
   ]
  },
  {
   "cell_type": "markdown",
   "metadata": {},
   "source": [
    "## Load and Wrangle Data"
   ]
  },
  {
   "cell_type": "code",
   "execution_count": 2,
   "metadata": {},
   "outputs": [
    {
     "name": "stdout",
     "output_type": "stream",
     "text": [
      "Loaded 17964 samples with 42326 features and 42 labels\n"
     ]
    }
   ],
   "source": [
    "X = pd.read_hdf(os.path.expanduser(\"~/data/pancan_gtex.h5\"), \"samples\")\n",
    "Y = pd.read_hdf(os.path.expanduser(\"~/data/pancan_gtex.h5\"), \"labels\")\n",
    "print(\"Loaded {} samples with {} features and {} labels\".format(X.shape[0], X.shape[1], Y.shape[1]))"
   ]
  },
  {
   "cell_type": "code",
   "execution_count": 3,
   "metadata": {},
   "outputs": [
    {
     "name": "stdout",
     "output_type": "stream",
     "text": [
      "Pruning to only COSMIC genes\n",
      "Pruned expression to only include 700 genes\n"
     ]
    },
    {
     "name": "stderr",
     "output_type": "stream",
     "text": [
      "Using TensorFlow backend.\n"
     ]
    }
   ],
   "source": [
    "# Prune X to only KEGG pathway genes\n",
    "# with open(os.path.expanduser(\"~/data/msigdb/c2.cp.kegg.v6.2.symbols.gmt\")) as f:\n",
    "#     subset_of_genes = list(set().union(*[line.strip().split(\"\\t\")[2:] for line in f.readlines()]))\n",
    "# print(\"Pruning to only include KEGG pathway genes\")\n",
    "\n",
    "# Prune X to only Cosmic Cancer Genes\n",
    "print(\"Pruning to only COSMIC genes\")\n",
    "subset_of_genes = pd.read_table(\"../data/cosmic_260818.tsv\")[\"Gene Symbol\"].values\n",
    "    \n",
    "pruned_X = X.drop(labels=(set(X.columns) - set(subset_of_genes)), axis=1)\n",
    "\n",
    "# Order must match dataframe so we can use this as labels for shap\n",
    "genes = list(pruned_X.columns.values)\n",
    "print(\"Pruned expression to only include\", len(genes), \"genes\")\n",
    "\n",
    "# Create a multi-label one-hot for tumor/normal and primary site\n",
    "from sklearn.preprocessing import LabelEncoder\n",
    "\n",
    "primary_site_encoder = LabelEncoder()\n",
    "Y[\"primary_site_value\"] = pd.Series(\n",
    "    primary_site_encoder.fit_transform(Y[\"_primary_site\"]), index=Y.index, dtype='int32')\n",
    "\n",
    "tumor_normal_encoder = LabelEncoder()\n",
    "Y[\"tumor_normal_value\"] = pd.Series(\n",
    "    tumor_normal_encoder.fit_transform(Y[\"tumor_normal\"]), index=Y.index, dtype='int32')\n",
    "\n",
    "from keras.utils import np_utils\n",
    "Y_onehot = np.append(\n",
    "    Y[\"tumor_normal_value\"].values.reshape(Y.shape[0],-1), \n",
    "    np_utils.to_categorical(Y[\"primary_site_value\"]), axis=1)"
   ]
  },
  {
   "cell_type": "code",
   "execution_count": 4,
   "metadata": {},
   "outputs": [
    {
     "name": "stdout",
     "output_type": "stream",
     "text": [
      "Train: (14371, 700) Test: (3593, 700)\n"
     ]
    }
   ],
   "source": [
    "# Split into training and test sets strattified on primary site\n",
    "from sklearn.model_selection import StratifiedShuffleSplit\n",
    "split = StratifiedShuffleSplit(n_splits=1, test_size=0.2, random_state=42)\n",
    "\n",
    "for train_index, test_index in split.split(X.values, Y.primary_site_value):\n",
    "    X_train = pruned_X.values[train_index]\n",
    "    X_test = pruned_X.values[test_index]\n",
    "    Y_train = Y.iloc[train_index]\n",
    "    Y_test = Y.iloc[test_index]\n",
    "    Y_onehot_train = Y_onehot[train_index]\n",
    "    Y_onehot_test = Y_onehot[test_index]\n",
    "    \n",
    "print(\"Train:\", X_train.shape, \"Test:\", X_test.shape)"
   ]
  },
  {
   "cell_type": "code",
   "execution_count": 5,
   "metadata": {},
   "outputs": [],
   "source": [
    "# import matplotlib.pyplot as plt\n",
    "\n",
    "# # Lets see how big each class is based on primary site\n",
    "# plt.hist(Y_train.primary_site_value.values, alpha=0.5, label='Train')\n",
    "# plt.hist(Y_test.primary_site_value.values, alpha=0.5, label='Test')\n",
    "# plt.legend(loc='upper right')\n",
    "# plt.title(\"Primary site distribution between train and test sets\")\n",
    "# plt.show()\n",
    "\n",
    "# # Lets see how big each class is based tumor/normal\n",
    "# plt.hist(Y_train.tumor_normal_value.values, alpha=0.5, label='Train')\n",
    "# plt.hist(Y_test.tumor_normal_value.values, alpha=0.5, label='Test')\n",
    "# plt.legend(loc='upper right')\n",
    "# plt.title(\"Tumor/normal distribution between train and test sets\")\n",
    "# plt.show()"
   ]
  },
  {
   "cell_type": "markdown",
   "metadata": {},
   "source": [
    "## Build and Train Model"
   ]
  },
  {
   "cell_type": "code",
   "execution_count": 6,
   "metadata": {},
   "outputs": [
    {
     "name": "stdout",
     "output_type": "stream",
     "text": [
      "_________________________________________________________________\n",
      "Layer (type)                 Output Shape              Param #   \n",
      "=================================================================\n",
      "input_1 (InputLayer)         (None, 700)               0         \n",
      "_________________________________________________________________\n",
      "batch_normalization_1 (Batch (None, 700)               2800      \n",
      "_________________________________________________________________\n",
      "dense_1 (Dense)              (None, 64)                44864     \n",
      "_________________________________________________________________\n",
      "dropout_1 (Dropout)          (None, 64)                0         \n",
      "_________________________________________________________________\n",
      "dense_2 (Dense)              (None, 64)                4160      \n",
      "_________________________________________________________________\n",
      "dropout_2 (Dropout)          (None, 64)                0         \n",
      "_________________________________________________________________\n",
      "dense_3 (Dense)              (None, 46)                2990      \n",
      "=================================================================\n",
      "Total params: 54,814\n",
      "Trainable params: 53,414\n",
      "Non-trainable params: 1,400\n",
      "_________________________________________________________________\n",
      "Epoch 1/10\n",
      "14371/14371 [==============================] - 1s 73us/step - loss: 0.3005 - acc: 0.8705\n",
      "Epoch 2/10\n",
      "14371/14371 [==============================] - 0s 30us/step - loss: 0.1031 - acc: 0.9728\n",
      "Epoch 3/10\n",
      "14371/14371 [==============================] - 0s 30us/step - loss: 0.0776 - acc: 0.9780\n",
      "Epoch 4/10\n",
      "14371/14371 [==============================] - 0s 31us/step - loss: 0.0639 - acc: 0.9810\n",
      "Epoch 00004: early stopping\n",
      "3593/3593 [==============================] - 0s 64us/step\n",
      "['loss', 'acc'] [0.030297907666014721, 0.99085784651859532]\n"
     ]
    }
   ],
   "source": [
    "from keras.models import Model\n",
    "from keras.layers import Input, BatchNormalization, Dense, Dropout\n",
    "from keras.callbacks import EarlyStopping\n",
    "from keras import regularizers\n",
    "\n",
    "def create_model(input_shape, output_shape, params):\n",
    "    inputs = Input(shape=(input_shape,))\n",
    "\n",
    "    x = BatchNormalization()(inputs)\n",
    "\n",
    "    x = Dense(64, activation=\"relu\")(x)\n",
    "    x = Dropout(0.5)(x)\n",
    "    \n",
    "    x = Dense(64, activation=\"relu\")(x)\n",
    "    x = Dropout(0.5)(x)\n",
    "    \n",
    "    outputs = Dense(output_shape, activation=\"sigmoid\")(x)\n",
    "    \n",
    "    model = Model(inputs=inputs, outputs=outputs)\n",
    "    model.compile(loss=\"binary_crossentropy\", optimizer=\"adam\", metrics=[\"acc\"])\n",
    "    return model\n",
    "\n",
    "model = create_model(X_train.shape[1], Y_onehot_train.shape[1], {})\n",
    "model.summary()\n",
    "\n",
    "callbacks = [EarlyStopping(monitor=\"acc\", min_delta=0.05, patience=2, verbose=2, mode=\"max\")]\n",
    "model.fit(X_train, Y_onehot_train, epochs=10, batch_size=128, shuffle=\"batch\", callbacks=callbacks)\n",
    "print(model.metrics_names, model.evaluate(X_test, Y_onehot_test))"
   ]
  },
  {
   "cell_type": "code",
   "execution_count": 7,
   "metadata": {},
   "outputs": [],
   "source": [
    "# Save the model to disk so we can load, evaluate, infer and explain independantly\n",
    "\n",
    "# See https://github.com/h5py/h5py/issues/712\n",
    "os.environ[\"HDF5_USE_FILE_LOCKING\"] = \"FALSE\" \n",
    "\n",
    "with open(\"models/pancan_gtex.params.json\", \"w\") as f:\n",
    "    f.write(json.dumps({\n",
    "        \"tumor_normal\": tumor_normal_encoder.classes_.tolist(),\n",
    "        \"primary_site\": primary_site_encoder.classes_.tolist(),\n",
    "        \"genes\": genes,\n",
    "        \"train_indices\": train_index.tolist(),\n",
    "        \"test_indices\": test_index.tolist()}))\n",
    "\n",
    "with open(\"models/pancan_gtex.model.json\", \"w\") as f:\n",
    "    f.write(model.to_json())\n",
    "\n",
    "model.save_weights(\"models/pancan_gtex.weights.h5\")"
   ]
  }
 ],
 "metadata": {
  "kernelspec": {
   "display_name": "Python 3",
   "language": "python",
   "name": "python3"
  },
  "language_info": {
   "codemirror_mode": {
    "name": "ipython",
    "version": 3
   },
   "file_extension": ".py",
   "mimetype": "text/x-python",
   "name": "python",
   "nbconvert_exporter": "python",
   "pygments_lexer": "ipython3",
   "version": "3.6.5"
  }
 },
 "nbformat": 4,
 "nbformat_minor": 2
}
