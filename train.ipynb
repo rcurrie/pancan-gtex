{
 "cells": [
  {
   "cell_type": "markdown",
   "metadata": {},
   "source": [
    "# Train and Optimize\n",
    "\n",
    "Train a neural network on TCGA+GTEX gene expression to classify tissue/disease"
   ]
  },
  {
   "cell_type": "code",
   "execution_count": 3,
   "metadata": {},
   "outputs": [],
   "source": [
    "import sys\n",
    "import os\n",
    "import json\n",
    "import pandas as pd\n",
    "import numpy as np\n",
    "import tensorflow as tf\n",
    "\n",
    "# fix random seed for reproducibility\n",
    "np.random.seed(42)\n",
    "\n",
    "os.chdir(os.path.expanduser(\"~/data/pancan-gtex\"))"
   ]
  },
  {
   "cell_type": "markdown",
   "metadata": {},
   "source": [
    "## Load and Wrangle Data"
   ]
  },
  {
   "cell_type": "code",
   "execution_count": 4,
   "metadata": {},
   "outputs": [
    {
     "name": "stdout",
     "output_type": "stream",
     "text": [
      "Loaded 17277 samples with 5540 features and 40 labels\n"
     ]
    }
   ],
   "source": [
    "X = pd.read_hdf(os.path.expanduser(\"pancan-gtex-pruned.h5\"), \"samples\")\n",
    "Y = pd.read_hdf(os.path.expanduser(\"pancan-gtex-pruned.h5\"), \"labels\")\n",
    "print(\"Loaded {} samples with {} features and {} labels\".format(X.shape[0], X.shape[1], Y.shape[1]))"
   ]
  },
  {
   "cell_type": "code",
   "execution_count": 6,
   "metadata": {},
   "outputs": [],
   "source": [
    "# Create a multi-label one-hot for tumor/normal and primary site\n",
    "from sklearn.preprocessing import LabelEncoder\n",
    "\n",
    "primary_site_encoder = LabelEncoder()\n",
    "Y[\"primary_site_value\"] = pd.Series(\n",
    "    primary_site_encoder.fit_transform(Y[\"_primary_site\"]), index=Y.index, dtype='int32')\n",
    "\n",
    "tumor_normal_encoder = LabelEncoder()\n",
    "Y[\"tumor_normal_value\"] = pd.Series(\n",
    "    tumor_normal_encoder.fit_transform(Y[\"tumor_normal\"]), index=Y.index, dtype='int32')\n",
    "\n",
    "Y_onehot = np.append(\n",
    "    Y[\"tumor_normal_value\"].values.reshape(Y.shape[0],-1), \n",
    "    tf.keras.utils.to_categorical(Y[\"primary_site_value\"]), axis=1)"
   ]
  },
  {
   "cell_type": "code",
   "execution_count": 8,
   "metadata": {},
   "outputs": [
    {
     "name": "stdout",
     "output_type": "stream",
     "text": [
      "Train: (13821, 5540) Test: (3456, 5540)\n"
     ]
    }
   ],
   "source": [
    "# Split into training and test sets strattified on primary site\n",
    "from sklearn.model_selection import StratifiedShuffleSplit\n",
    "split = StratifiedShuffleSplit(n_splits=1, test_size=0.2, random_state=42)\n",
    "\n",
    "for train_index, test_index in split.split(X.values, Y.primary_site_value):\n",
    "    X_train = X.values[train_index]\n",
    "    X_test = X.values[test_index]\n",
    "    Y_train = Y.iloc[train_index]\n",
    "    Y_test = Y.iloc[test_index]\n",
    "    Y_onehot_train = Y_onehot[train_index]\n",
    "    Y_onehot_test = Y_onehot[test_index]\n",
    "    \n",
    "print(\"Train:\", X_train.shape, \"Test:\", X_test.shape)"
   ]
  },
  {
   "cell_type": "code",
   "execution_count": 10,
   "metadata": {},
   "outputs": [
    {
     "data": {
      "image/png": "[encoded data removed]",
      "text/plain": [
       "<Figure size 432x288 with 1 Axes>"
      ]
     },
     "metadata": {
      "needs_background": "light"
     },
     "output_type": "display_data"
    },
    {
     "data": {
      "image/png": "[encoded data removed]",
      "text/plain": [
       "<Figure size 432x288 with 1 Axes>"
      ]
     },
     "metadata": {
      "needs_background": "light"
     },
     "output_type": "display_data"
    }
   ],
   "source": [
    "import matplotlib.pyplot as plt\n",
    "\n",
    "# Lets see how big each class is based on primary site\n",
    "plt.hist(Y_train.primary_site_value.values, alpha=0.5, label='Train')\n",
    "plt.hist(Y_test.primary_site_value.values, alpha=0.5, label='Test')\n",
    "plt.legend(loc='upper right')\n",
    "plt.title(\"Primary site distribution between train and test sets\")\n",
    "plt.show()\n",
    "\n",
    "# Lets see how big each class is based tumor/normal\n",
    "plt.hist(Y_train.tumor_normal_value.values, alpha=0.5, label='Train')\n",
    "plt.hist(Y_test.tumor_normal_value.values, alpha=0.5, label='Test')\n",
    "plt.legend(loc='upper right')\n",
    "plt.title(\"Tumor/normal distribution between train and test sets\")\n",
    "plt.show()"
   ]
  },
  {
   "cell_type": "markdown",
   "metadata": {},
   "source": [
    "## Build and Train Model"
   ]
  },
  {
   "cell_type": "code",
   "execution_count": 11,
   "metadata": {},
   "outputs": [
    {
     "name": "stdout",
     "output_type": "stream",
     "text": [
      "_________________________________________________________________\n",
      "Layer (type)                 Output Shape              Param #   \n",
      "=================================================================\n",
      "input_1 (InputLayer)         (None, 5540)              0         \n",
      "_________________________________________________________________\n",
      "batch_normalization (BatchNo (None, 5540)              22160     \n",
      "_________________________________________________________________\n",
      "dense (Dense)                (None, 64)                354624    \n",
      "_________________________________________________________________\n",
      "dropout (Dropout)            (None, 64)                0         \n",
      "_________________________________________________________________\n",
      "dense_1 (Dense)              (None, 64)                4160      \n",
      "_________________________________________________________________\n",
      "dropout_1 (Dropout)          (None, 64)                0         \n",
      "_________________________________________________________________\n",
      "dense_2 (Dense)              (None, 34)                2210      \n",
      "=================================================================\n",
      "Total params: 383,154\n",
      "Trainable params: 372,074\n",
      "Non-trainable params: 11,080\n",
      "_________________________________________________________________\n",
      "Epoch 1/10\n",
      "13821/13821 [==============================] - 4s 319us/step - loss: 0.3056 - acc: 0.8684\n",
      "Epoch 2/10\n",
      "13821/13821 [==============================] - 3s 251us/step - loss: 0.1067 - acc: 0.9659\n",
      "Epoch 3/10\n",
      "13821/13821 [==============================] - 3s 252us/step - loss: 0.0765 - acc: 0.9746 2\n",
      "Epoch 4/10\n",
      "13821/13821 [==============================] - 5s 390us/step - loss: 0.0621 - acc: 0.9788 2s - \n",
      "Epoch 00004: early stopping\n",
      "3456/3456 [==============================] - 1s 232us/step\n",
      "['loss', 'acc'] [0.017857588004079408, 0.9952341996961169]\n"
     ]
    }
   ],
   "source": [
    "def create_model(input_shape, output_shape, params):\n",
    "    inputs = tf.keras.layers.Input(shape=(input_shape,))\n",
    "\n",
    "    x = tf.keras.layers.BatchNormalization()(inputs)\n",
    "\n",
    "    x = tf.keras.layers.Dense(64, activation=\"relu\")(x)\n",
    "    x = tf.keras.layers.Dropout(0.5)(x)\n",
    "    \n",
    "    x = tf.keras.layers.Dense(64, activation=\"relu\")(x)\n",
    "    x = tf.keras.layers.Dropout(0.5)(x)\n",
    "    \n",
    "    outputs = tf.keras.layers.Dense(output_shape, activation=\"sigmoid\")(x)\n",
    "    \n",
    "    model = tf.keras.models.Model(inputs=inputs, outputs=outputs)\n",
    "    model.compile(loss=\"binary_crossentropy\", optimizer=\"adam\", metrics=[\"acc\"])\n",
    "    return model\n",
    "\n",
    "model = create_model(X_train.shape[1], Y_onehot_train.shape[1], {})\n",
    "model.summary()\n",
    "\n",
    "callbacks = [tf.keras.callbacks.EarlyStopping(monitor=\"acc\", min_delta=0.05, patience=2, verbose=2, mode=\"max\")]\n",
    "model.fit(X_train, Y_onehot_train, epochs=10, batch_size=128, shuffle=\"batch\", callbacks=callbacks)\n",
    "print(model.metrics_names, model.evaluate(X_test, Y_onehot_test))"
   ]
  },
  {
   "cell_type": "code",
   "execution_count": 22,
   "metadata": {},
   "outputs": [],
   "source": [
    "# Save the model to disk so we can load, evaluate, infer and explain independantly\n",
    "with open(\"pruned-params.json\", \"w\") as f:\n",
    "    f.write(json.dumps({\n",
    "        \"tumor_normal\": tumor_normal_encoder.classes_.tolist(),\n",
    "        \"primary_site\": primary_site_encoder.classes_.tolist(),\n",
    "        \"train_indices\": train_index.tolist(),\n",
    "        \"test_indices\": test_index.tolist()}))\n",
    "    \n",
    "model.save(\"pruned-model.h5\")"
   ]
  },
  {
   "cell_type": "code",
   "execution_count": 23,
   "metadata": {},
   "outputs": [
    {
     "name": "stdout",
     "output_type": "stream",
     "text": [
      "upload: ./pruned-params.json to s3://stuartlab/pancan-gtex/pruned-params.json\n",
      "upload: ./pruned-model.h5 to s3://stuartlab/pancan-gtex/pruned-model.h5\n"
     ]
    }
   ],
   "source": [
    "# Copy to S3/PRP for training as well as public_html for faster access in colab infer\n",
    "!aws --profile {os.getenv(\"AWS_PROFILE\")} --endpoint {os.getenv(\"AWS_S3_ENDPOINT\")} \\\n",
    "    s3 cp pruned-params.json s3://stuartlab/pancan-gtex/ --acl public-read\n",
    "\n",
    "!aws --profile {os.getenv(\"AWS_PROFILE\")} --endpoint {os.getenv(\"AWS_S3_ENDPOINT\")} \\\n",
    "    s3 cp pruned-model.h5 s3://stuartlab/pancan-gtex/ --acl public-read"
   ]
  }
 ],
 "metadata": {
  "kernelspec": {
   "display_name": "Python 3",
   "language": "python",
   "name": "python3"
  },
  "language_info": {
   "codemirror_mode": {
    "name": "ipython",
    "version": 3
   },
   "file_extension": ".py",
   "mimetype": "text/x-python",
   "name": "python",
   "nbconvert_exporter": "python",
   "pygments_lexer": "ipython3",
   "version": "3.5.2"
  }
 },
 "nbformat": 4,
 "nbformat_minor": 2
}
