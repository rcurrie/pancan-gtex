{
 "cells": [
  {
   "cell_type": "markdown",
   "metadata": {},
   "source": [
    "# Train and Optimize\n",
    "\n",
    "Train a neural network on TCGA+GTEX gene expression to classify tissue/disease\n",
    "\n",
    "Try out a few hyper parameter frameworks:\n",
    "\n",
    "* [Ray Tune](https://ray.readthedocs.io/en/latest/tune.html) (tried a few times but didn't manage to get it happy with Keras and cost functions)\n",
    "* [Polyaxon](https://github.com/polyaxon/polyaxon)\n",
    "* [Talos](https://github.com/autonomio/talos)"
   ]
  },
  {
   "cell_type": "code",
   "execution_count": 1,
   "metadata": {},
   "outputs": [],
   "source": [
    "import sys\n",
    "import os\n",
    "import json\n",
    "import pandas as pd\n",
    "import numpy as np\n",
    "\n",
    "# fix random seed for reproducibility\n",
    "np.random.seed(42)"
   ]
  },
  {
   "cell_type": "markdown",
   "metadata": {},
   "source": [
    "## Load and Wrangle Data"
   ]
  },
  {
   "cell_type": "code",
   "execution_count": 2,
   "metadata": {},
   "outputs": [
    {
     "name": "stdout",
     "output_type": "stream",
     "text": [
      "Loaded 17964 samples with 42326 features and 42 labels\n"
     ]
    }
   ],
   "source": [
    "X = pd.read_hdf(os.path.expanduser(\"~/data/pancan_gtex.h5\"), \"samples\")\n",
    "Y = pd.read_hdf(os.path.expanduser(\"~/data/pancan_gtex.h5\"), \"labels\")\n",
    "print(\"Loaded {} samples with {} features and {} labels\".format(X.shape[0], X.shape[1], Y.shape[1]))"
   ]
  },
  {
   "cell_type": "code",
   "execution_count": 3,
   "metadata": {},
   "outputs": [
    {
     "name": "stdout",
     "output_type": "stream",
     "text": [
      "Pruning to only COSMIC genes\n",
      "Pruned expression to only include 700 genes\n"
     ]
    },
    {
     "name": "stderr",
     "output_type": "stream",
     "text": [
      "Using TensorFlow backend.\n"
     ]
    }
   ],
   "source": [
    "# Prune X to only KEGG pathway genes\n",
    "# with open(os.path.expanduser(\"~/data/msigdb/c2.cp.kegg.v6.2.symbols.gmt\")) as f:\n",
    "#     subset_of_genes = list(set().union(*[line.strip().split(\"\\t\")[2:] for line in f.readlines()]))\n",
    "# print(\"Pruning to only include KEGG pathway genes\")\n",
    "\n",
    "# Prune X to only Cosmic Cancer Genes\n",
    "print(\"Pruning to only COSMIC genes\")\n",
    "subset_of_genes = pd.read_table(\"../data/cosmic_260818.tsv\")[\"Gene Symbol\"].values\n",
    "    \n",
    "pruned_X = X.drop(labels=(set(X.columns) - set(subset_of_genes)), axis=1)\n",
    "\n",
    "# Order must match dataframe so we can use this as labels for shap\n",
    "genes = list(pruned_X.columns.values)\n",
    "print(\"Pruned expression to only include\", len(genes), \"genes\")\n",
    "\n",
    "# Create a multi-label one-hot for tumor/normal and primary site\n",
    "from sklearn.preprocessing import LabelEncoder\n",
    "\n",
    "primary_site_encoder = LabelEncoder()\n",
    "Y[\"primary_site_value\"] = pd.Series(\n",
    "    primary_site_encoder.fit_transform(Y[\"_primary_site\"]), index=Y.index, dtype='int32')\n",
    "\n",
    "tumor_normal_encoder = LabelEncoder()\n",
    "Y[\"tumor_normal_value\"] = pd.Series(\n",
    "    tumor_normal_encoder.fit_transform(Y[\"tumor_normal\"]), index=Y.index, dtype='int32')\n",
    "\n",
    "from keras.utils import np_utils\n",
    "Y_onehot = np.append(\n",
    "    Y[\"tumor_normal_value\"].values.reshape(Y.shape[0],-1), \n",
    "    np_utils.to_categorical(Y[\"primary_site_value\"]), axis=1)"
   ]
  },
  {
   "cell_type": "code",
   "execution_count": 4,
   "metadata": {},
   "outputs": [
    {
     "name": "stdout",
     "output_type": "stream",
     "text": [
      "Train: (14371, 700) Test: (3593, 700)\n"
     ]
    }
   ],
   "source": [
    "# Split into training and test sets strattified on primary site\n",
    "from sklearn.model_selection import StratifiedShuffleSplit\n",
    "split = StratifiedShuffleSplit(n_splits=1, test_size=0.2, random_state=42)\n",
    "\n",
    "for train_index, test_index in split.split(X.values, Y.primary_site_value):\n",
    "    X_train = pruned_X.values[train_index]\n",
    "    X_test = pruned_X.values[test_index]\n",
    "    Y_train = Y.iloc[train_index]\n",
    "    Y_test = Y.iloc[test_index]\n",
    "    Y_onehot_train = Y_onehot[train_index]\n",
    "    Y_onehot_test = Y_onehot[test_index]\n",
    "    \n",
    "print(\"Train:\", X_train.shape, \"Test:\", X_test.shape)"
   ]
  },
  {
   "cell_type": "code",
   "execution_count": 5,
   "metadata": {},
   "outputs": [],
   "source": [
    "# import matplotlib.pyplot as plt\n",
    "\n",
    "# # Lets see how big each class is based on primary site\n",
    "# plt.hist(Y_train.primary_site_value.values, alpha=0.5, label='Train')\n",
    "# plt.hist(Y_test.primary_site_value.values, alpha=0.5, label='Test')\n",
    "# plt.legend(loc='upper right')\n",
    "# plt.title(\"Primary site distribution between train and test sets\")\n",
    "# plt.show()\n",
    "\n",
    "# # Lets see how big each class is based tumor/normal\n",
    "# plt.hist(Y_train.tumor_normal_value.values, alpha=0.5, label='Train')\n",
    "# plt.hist(Y_test.tumor_normal_value.values, alpha=0.5, label='Test')\n",
    "# plt.legend(loc='upper right')\n",
    "# plt.title(\"Tumor/normal distribution between train and test sets\")\n",
    "# plt.show()"
   ]
  },
  {
   "cell_type": "markdown",
   "metadata": {},
   "source": [
    "## Build and Train Model"
   ]
  },
  {
   "cell_type": "code",
   "execution_count": 6,
   "metadata": {},
   "outputs": [
    {
     "name": "stdout",
     "output_type": "stream",
     "text": [
      "Uninstalling talos-0.3:\n",
      "  Successfully uninstalled talos-0.3\n",
      "\u001b[33mYou are using pip version 9.0.3, however version 18.0 is available.\n",
      "You should consider upgrading via the 'pip install --upgrade pip' command.\u001b[0m\n",
      "Collecting git+https://github.com/autonomio/talos@master\n",
      "  Cloning https://github.com/autonomio/talos (to master) to /tmp/pip-ebh02bqf-build\n",
      "Installing collected packages: talos\n",
      "  Running setup.py install for talos ... \u001b[?25ldone\n",
      "\u001b[?25hSuccessfully installed talos-0.3\n",
      "\u001b[33mYou are using pip version 9.0.3, however version 18.0 is available.\n",
      "You should consider upgrading via the 'pip install --upgrade pip' command.\u001b[0m\n"
     ]
    }
   ],
   "source": [
    "# Only latest support functional keras models...\n",
    "!pip uninstall talos -y\n",
    "!pip install --upgrade git+https://github.com/autonomio/talos@master\n",
    "\n",
    "# !pip install --upgrade talos==0.1.9.5\n",
    "import talos"
   ]
  },
  {
   "cell_type": "code",
   "execution_count": 31,
   "metadata": {},
   "outputs": [
    {
     "name": "stderr",
     "output_type": "stream",
     "text": [
      "\r",
      "  0%|          | 0/16 [00:00<?, ?it/s]"
     ]
    },
    {
     "name": "stdout",
     "output_type": "stream",
     "text": [
      "Train on 14371 samples, validate on 3593 samples\n",
      "Epoch 1/10\n",
      "14371/14371 [==============================] - 2s 152us/step - loss: 0.3097 - acc: 0.8644 - val_loss: 0.0748 - val_acc: 0.9793\n",
      "Epoch 2/10\n",
      "14371/14371 [==============================] - 1s 48us/step - loss: 0.1001 - acc: 0.9738 - val_loss: 0.0497 - val_acc: 0.9837\n",
      "Epoch 3/10\n",
      "14371/14371 [==============================] - 1s 48us/step - loss: 0.0756 - acc: 0.9786 - val_loss: 0.0366 - val_acc: 0.9886\n",
      "Epoch 4/10\n",
      "14371/14371 [==============================] - 1s 48us/step - loss: 0.0617 - acc: 0.9816 - val_loss: 0.0291 - val_acc: 0.9912\n",
      "Epoch 00004: early stopping\n"
     ]
    },
    {
     "name": "stderr",
     "output_type": "stream",
     "text": [
      "\r",
      "  6%|▋         | 1/16 [00:05<01:29,  5.95s/it]"
     ]
    },
    {
     "name": "stdout",
     "output_type": "stream",
     "text": [
      "Train on 14371 samples, validate on 3593 samples\n",
      "Epoch 1/10\n",
      "14371/14371 [==============================] - 2s 143us/step - loss: 0.2956 - acc: 0.8735 - val_loss: 0.0735 - val_acc: 0.9794\n",
      "Epoch 2/10\n",
      "14371/14371 [==============================] - 1s 50us/step - loss: 0.0972 - acc: 0.9740 - val_loss: 0.0479 - val_acc: 0.9845\n",
      "Epoch 3/10\n",
      "14371/14371 [==============================] - 1s 49us/step - loss: 0.0731 - acc: 0.9790 - val_loss: 0.0353 - val_acc: 0.9892\n",
      "Epoch 4/10\n",
      "14371/14371 [==============================] - 1s 47us/step - loss: 0.0611 - acc: 0.9816 - val_loss: 0.0286 - val_acc: 0.9914\n",
      "Epoch 00004: early stopping\n"
     ]
    },
    {
     "name": "stderr",
     "output_type": "stream",
     "text": [
      "\r",
      " 12%|█▎        | 2/16 [00:11<01:22,  5.89s/it]"
     ]
    },
    {
     "name": "stdout",
     "output_type": "stream",
     "text": [
      "Train on 14371 samples, validate on 3593 samples\n",
      "Epoch 1/10\n",
      "14371/14371 [==============================] - 2s 149us/step - loss: 0.2960 - acc: 0.8737 - val_loss: 0.0748 - val_acc: 0.9790\n",
      "Epoch 2/10\n",
      "14371/14371 [==============================] - 1s 47us/step - loss: 0.1006 - acc: 0.9738 - val_loss: 0.0512 - val_acc: 0.9831\n",
      "Epoch 3/10\n",
      "14371/14371 [==============================] - 1s 48us/step - loss: 0.0774 - acc: 0.9780 - val_loss: 0.0378 - val_acc: 0.9879\n",
      "Epoch 4/10\n",
      "14371/14371 [==============================] - 1s 45us/step - loss: 0.0643 - acc: 0.9810 - val_loss: 0.0307 - val_acc: 0.9908\n",
      "Epoch 00004: early stopping\n"
     ]
    },
    {
     "name": "stderr",
     "output_type": "stream",
     "text": [
      "\r",
      " 19%|█▉        | 3/16 [00:17<01:17,  5.99s/it]"
     ]
    },
    {
     "name": "stdout",
     "output_type": "stream",
     "text": [
      "Train on 14371 samples, validate on 3593 samples\n",
      "Epoch 1/10\n",
      "14371/14371 [==============================] - 2s 150us/step - loss: 0.3020 - acc: 0.8700 - val_loss: 0.0779 - val_acc: 0.9789\n",
      "Epoch 2/10\n",
      "14371/14371 [==============================] - 1s 43us/step - loss: 0.1014 - acc: 0.9731 - val_loss: 0.0512 - val_acc: 0.9833\n",
      "Epoch 3/10\n",
      "14371/14371 [==============================] - 1s 47us/step - loss: 0.0770 - acc: 0.9782 - val_loss: 0.0377 - val_acc: 0.9882\n",
      "Epoch 4/10\n",
      "14371/14371 [==============================] - 1s 47us/step - loss: 0.0629 - acc: 0.9813 - val_loss: 0.0302 - val_acc: 0.9910\n",
      "Epoch 00004: early stopping\n"
     ]
    },
    {
     "name": "stderr",
     "output_type": "stream",
     "text": [
      "\r",
      " 25%|██▌       | 4/16 [00:23<01:10,  5.87s/it]"
     ]
    },
    {
     "name": "stdout",
     "output_type": "stream",
     "text": [
      "Train on 14371 samples, validate on 3593 samples\n",
      "Epoch 1/10\n",
      "14371/14371 [==============================] - 2s 163us/step - loss: 0.2913 - acc: 0.8767 - val_loss: 0.0725 - val_acc: 0.9793\n",
      "Epoch 2/10\n",
      "14371/14371 [==============================] - 1s 54us/step - loss: 0.0985 - acc: 0.9738 - val_loss: 0.0480 - val_acc: 0.9846\n",
      "Epoch 3/10\n",
      "14371/14371 [==============================] - 1s 48us/step - loss: 0.0737 - acc: 0.9790 - val_loss: 0.0358 - val_acc: 0.9891\n",
      "Epoch 4/10\n",
      "14371/14371 [==============================] - 1s 45us/step - loss: 0.0614 - acc: 0.9819 - val_loss: 0.0285 - val_acc: 0.9917\n",
      "Epoch 00004: early stopping\n"
     ]
    },
    {
     "name": "stderr",
     "output_type": "stream",
     "text": [
      "\r",
      " 31%|███▏      | 5/16 [00:29<01:05,  5.94s/it]"
     ]
    },
    {
     "name": "stdout",
     "output_type": "stream",
     "text": [
      "Train on 14371 samples, validate on 3593 samples\n",
      "Epoch 1/10\n",
      "14371/14371 [==============================] - 2s 169us/step - loss: 0.3108 - acc: 0.8668 - val_loss: 0.0778 - val_acc: 0.9790\n",
      "Epoch 2/10\n",
      "14371/14371 [==============================] - 1s 47us/step - loss: 0.1029 - acc: 0.9734 - val_loss: 0.0527 - val_acc: 0.9825\n",
      "Epoch 3/10\n",
      "14371/14371 [==============================] - 1s 45us/step - loss: 0.0775 - acc: 0.9781 - val_loss: 0.0386 - val_acc: 0.9874\n",
      "Epoch 4/10\n",
      "14371/14371 [==============================] - 1s 45us/step - loss: 0.0634 - acc: 0.9809 - val_loss: 0.0303 - val_acc: 0.9905\n",
      "Epoch 00004: early stopping\n"
     ]
    },
    {
     "name": "stderr",
     "output_type": "stream",
     "text": [
      "\r",
      " 38%|███▊      | 6/16 [00:35<00:59,  5.96s/it]"
     ]
    },
    {
     "name": "stdout",
     "output_type": "stream",
     "text": [
      "Train on 14371 samples, validate on 3593 samples\n",
      "Epoch 1/10\n",
      "14371/14371 [==============================] - 3s 202us/step - loss: 0.2965 - acc: 0.8726 - val_loss: 0.0738 - val_acc: 0.9794\n",
      "Epoch 2/10\n",
      "14371/14371 [==============================] - 1s 49us/step - loss: 0.0975 - acc: 0.9743 - val_loss: 0.0486 - val_acc: 0.9850\n",
      "Epoch 3/10\n",
      "14371/14371 [==============================] - 1s 44us/step - loss: 0.0738 - acc: 0.9788 - val_loss: 0.0359 - val_acc: 0.9886\n",
      "Epoch 4/10\n",
      "14371/14371 [==============================] - 1s 47us/step - loss: 0.0611 - acc: 0.9819 - val_loss: 0.0288 - val_acc: 0.9914\n",
      "Epoch 00004: early stopping\n"
     ]
    },
    {
     "name": "stderr",
     "output_type": "stream",
     "text": [
      "\r",
      " 44%|████▍     | 7/16 [00:42<00:55,  6.13s/it]"
     ]
    },
    {
     "name": "stdout",
     "output_type": "stream",
     "text": [
      "Train on 14371 samples, validate on 3593 samples\n",
      "Epoch 1/10\n",
      "14371/14371 [==============================] - 2s 169us/step - loss: 0.3082 - acc: 0.8656 - val_loss: 0.0747 - val_acc: 0.9794\n",
      "Epoch 2/10\n",
      "14371/14371 [==============================] - 1s 47us/step - loss: 0.1003 - acc: 0.9735 - val_loss: 0.0497 - val_acc: 0.9834\n",
      "Epoch 3/10\n",
      "14371/14371 [==============================] - 1s 46us/step - loss: 0.0744 - acc: 0.9787 - val_loss: 0.0353 - val_acc: 0.9884\n",
      "Epoch 4/10\n",
      "14371/14371 [==============================] - 1s 47us/step - loss: 0.0604 - acc: 0.9817 - val_loss: 0.0283 - val_acc: 0.9912\n",
      "Epoch 00004: early stopping\n"
     ]
    },
    {
     "name": "stderr",
     "output_type": "stream",
     "text": [
      "\r",
      " 50%|█████     | 8/16 [00:48<00:48,  6.10s/it]"
     ]
    },
    {
     "name": "stdout",
     "output_type": "stream",
     "text": [
      "Train on 14371 samples, validate on 3593 samples\n",
      "Epoch 1/10\n",
      "14371/14371 [==============================] - 2s 171us/step - loss: 0.3191 - acc: 0.8607 - val_loss: 0.0789 - val_acc: 0.9787\n",
      "Epoch 2/10\n",
      "14371/14371 [==============================] - 1s 45us/step - loss: 0.1022 - acc: 0.9736 - val_loss: 0.0525 - val_acc: 0.9826\n",
      "Epoch 3/10\n",
      "14371/14371 [==============================] - 1s 45us/step - loss: 0.0778 - acc: 0.9782 - val_loss: 0.0375 - val_acc: 0.9874\n",
      "Epoch 4/10\n",
      "14371/14371 [==============================] - 1s 49us/step - loss: 0.0639 - acc: 0.9811 - val_loss: 0.0294 - val_acc: 0.9910\n",
      "Epoch 00004: early stopping\n"
     ]
    },
    {
     "name": "stderr",
     "output_type": "stream",
     "text": [
      "\r",
      " 56%|█████▋    | 9/16 [00:54<00:42,  6.14s/it]"
     ]
    },
    {
     "name": "stdout",
     "output_type": "stream",
     "text": [
      "Train on 14371 samples, validate on 3593 samples\n",
      "Epoch 1/10\n",
      "14371/14371 [==============================] - 3s 210us/step - loss: 0.2961 - acc: 0.8748 - val_loss: 0.0790 - val_acc: 0.9780\n",
      "Epoch 2/10\n",
      "14371/14371 [==============================] - 1s 49us/step - loss: 0.1028 - acc: 0.9730 - val_loss: 0.0542 - val_acc: 0.9824\n",
      "Epoch 3/10\n",
      "14371/14371 [==============================] - 1s 48us/step - loss: 0.0785 - acc: 0.9780 - val_loss: 0.0390 - val_acc: 0.9876\n",
      "Epoch 4/10\n",
      "14371/14371 [==============================] - 1s 47us/step - loss: 0.0634 - acc: 0.9812 - val_loss: 0.0303 - val_acc: 0.9904\n",
      "Epoch 00004: early stopping\n"
     ]
    },
    {
     "name": "stderr",
     "output_type": "stream",
     "text": [
      "\r",
      " 62%|██████▎   | 10/16 [01:01<00:38,  6.37s/it]"
     ]
    },
    {
     "name": "stdout",
     "output_type": "stream",
     "text": [
      "Train on 14371 samples, validate on 3593 samples\n",
      "Epoch 1/10\n",
      "14371/14371 [==============================] - 3s 187us/step - loss: 0.3176 - acc: 0.8589 - val_loss: 0.0751 - val_acc: 0.9794\n",
      "Epoch 2/10\n",
      "14371/14371 [==============================] - 1s 46us/step - loss: 0.1022 - acc: 0.9733 - val_loss: 0.0515 - val_acc: 0.9828\n",
      "Epoch 3/10\n",
      "14371/14371 [==============================] - 1s 47us/step - loss: 0.0782 - acc: 0.9781 - val_loss: 0.0376 - val_acc: 0.9877\n",
      "Epoch 4/10\n",
      "14371/14371 [==============================] - 1s 42us/step - loss: 0.0642 - acc: 0.9808 - val_loss: 0.0298 - val_acc: 0.9905\n",
      "Epoch 00004: early stopping\n"
     ]
    },
    {
     "name": "stderr",
     "output_type": "stream",
     "text": [
      "\r",
      " 69%|██████▉   | 11/16 [01:07<00:31,  6.38s/it]"
     ]
    },
    {
     "name": "stdout",
     "output_type": "stream",
     "text": [
      "Train on 14371 samples, validate on 3593 samples\n",
      "Epoch 1/10\n",
      "14371/14371 [==============================] - 3s 192us/step - loss: 0.2801 - acc: 0.8838 - val_loss: 0.0754 - val_acc: 0.9788\n",
      "Epoch 2/10\n",
      "14371/14371 [==============================] - 1s 47us/step - loss: 0.0990 - acc: 0.9738 - val_loss: 0.0493 - val_acc: 0.9839\n",
      "Epoch 3/10\n",
      "14371/14371 [==============================] - 1s 46us/step - loss: 0.0747 - acc: 0.9788 - val_loss: 0.0357 - val_acc: 0.9888\n",
      "Epoch 4/10\n",
      "14371/14371 [==============================] - 1s 46us/step - loss: 0.0614 - acc: 0.9816 - val_loss: 0.0286 - val_acc: 0.9913\n",
      "Epoch 00004: early stopping\n"
     ]
    },
    {
     "name": "stderr",
     "output_type": "stream",
     "text": [
      "\r",
      " 75%|███████▌  | 12/16 [01:14<00:25,  6.43s/it]"
     ]
    },
    {
     "name": "stdout",
     "output_type": "stream",
     "text": [
      "Train on 14371 samples, validate on 3593 samples\n",
      "Epoch 1/10\n",
      "14371/14371 [==============================] - 3s 243us/step - loss: 0.2971 - acc: 0.8727 - val_loss: 0.0735 - val_acc: 0.9793\n",
      "Epoch 2/10\n",
      "14371/14371 [==============================] - 1s 46us/step - loss: 0.0992 - acc: 0.9740 - val_loss: 0.0495 - val_acc: 0.9842\n",
      "Epoch 3/10\n",
      "14371/14371 [==============================] - 1s 48us/step - loss: 0.0747 - acc: 0.9789 - val_loss: 0.0356 - val_acc: 0.9883\n",
      "Epoch 4/10\n",
      "14371/14371 [==============================] - 1s 44us/step - loss: 0.0618 - acc: 0.9817 - val_loss: 0.0283 - val_acc: 0.9916\n",
      "Epoch 00004: early stopping\n"
     ]
    },
    {
     "name": "stderr",
     "output_type": "stream",
     "text": [
      "\r",
      " 81%|████████▏ | 13/16 [01:21<00:19,  6.66s/it]"
     ]
    },
    {
     "name": "stdout",
     "output_type": "stream",
     "text": [
      "Train on 14371 samples, validate on 3593 samples\n",
      "Epoch 1/10\n",
      "14371/14371 [==============================] - 3s 202us/step - loss: 0.3140 - acc: 0.8608 - val_loss: 0.0771 - val_acc: 0.9791\n",
      "Epoch 2/10\n",
      "14371/14371 [==============================] - 1s 48us/step - loss: 0.1010 - acc: 0.9734 - val_loss: 0.0527 - val_acc: 0.9836\n",
      "Epoch 3/10\n",
      "14371/14371 [==============================] - 1s 47us/step - loss: 0.0771 - acc: 0.9781 - val_loss: 0.0383 - val_acc: 0.9879\n",
      "Epoch 4/10\n",
      "14371/14371 [==============================] - 1s 47us/step - loss: 0.0625 - acc: 0.9815 - val_loss: 0.0296 - val_acc: 0.9913\n",
      "Epoch 00004: early stopping\n"
     ]
    },
    {
     "name": "stderr",
     "output_type": "stream",
     "text": [
      "\r",
      " 88%|████████▊ | 14/16 [01:28<00:13,  6.68s/it]"
     ]
    },
    {
     "name": "stdout",
     "output_type": "stream",
     "text": [
      "Train on 14371 samples, validate on 3593 samples\n",
      "Epoch 1/10\n",
      "14371/14371 [==============================] - 3s 207us/step - loss: 0.2983 - acc: 0.8722 - val_loss: 0.0736 - val_acc: 0.9793\n",
      "Epoch 2/10\n",
      "14371/14371 [==============================] - 1s 46us/step - loss: 0.0977 - acc: 0.9739 - val_loss: 0.0470 - val_acc: 0.9848\n",
      "Epoch 3/10\n",
      "14371/14371 [==============================] - 1s 48us/step - loss: 0.0722 - acc: 0.9792 - val_loss: 0.0337 - val_acc: 0.9893\n",
      "Epoch 4/10\n",
      "14371/14371 [==============================] - 1s 43us/step - loss: 0.0593 - acc: 0.9821 - val_loss: 0.0271 - val_acc: 0.9920\n",
      "Epoch 00004: early stopping\n"
     ]
    },
    {
     "name": "stderr",
     "output_type": "stream",
     "text": [
      "\r",
      " 94%|█████████▍| 15/16 [01:34<00:06,  6.71s/it]"
     ]
    },
    {
     "name": "stdout",
     "output_type": "stream",
     "text": [
      "Train on 14371 samples, validate on 3593 samples\n",
      "Epoch 1/10\n",
      "14371/14371 [==============================] - 3s 214us/step - loss: 0.2938 - acc: 0.8751 - val_loss: 0.0729 - val_acc: 0.9790\n",
      "Epoch 2/10\n",
      "14371/14371 [==============================] - 1s 45us/step - loss: 0.0979 - acc: 0.9739 - val_loss: 0.0492 - val_acc: 0.9845\n",
      "Epoch 3/10\n",
      "14371/14371 [==============================] - 1s 44us/step - loss: 0.0740 - acc: 0.9786 - val_loss: 0.0352 - val_acc: 0.9890\n",
      "Epoch 4/10\n",
      "14371/14371 [==============================] - 1s 44us/step - loss: 0.0609 - acc: 0.9816 - val_loss: 0.0279 - val_acc: 0.9915\n",
      "Epoch 00004: early stopping\n"
     ]
    },
    {
     "name": "stderr",
     "output_type": "stream",
     "text": [
      "\r",
      "100%|██████████| 16/16 [01:41<00:00,  6.77s/it]"
     ]
    },
    {
     "name": "stdout",
     "output_type": "stream",
     "text": [
      "Scan Finished!\n"
     ]
    },
    {
     "name": "stderr",
     "output_type": "stream",
     "text": [
      "\n"
     ]
    }
   ],
   "source": [
    "from keras.models import Model\n",
    "from keras.layers import Input, BatchNormalization, Dense, Dropout\n",
    "from keras.callbacks import EarlyStopping\n",
    "from keras import regularizers\n",
    "\n",
    "params = {\n",
    "    \"width\": (16, 32, 64)\n",
    "}\n",
    "\n",
    "def create_model(input_shape, output_shape, params):\n",
    "    inputs = Input(shape=(input_shape,))\n",
    "\n",
    "    x = BatchNormalization()(inputs)\n",
    "\n",
    "    x = Dense(64, activation=\"relu\")(x)\n",
    "    x = Dropout(0.5)(x)\n",
    "    \n",
    "    x = Dense(64, activation=\"relu\")(x)\n",
    "    x = Dropout(0.5)(x)\n",
    "    \n",
    "    outputs = Dense(output_shape, activation=\"sigmoid\")(x)\n",
    "    \n",
    "    model = Model(inputs=inputs, outputs=outputs)\n",
    "    model.compile(loss=\"binary_crossentropy\", optimizer=\"adam\", metrics=[\"acc\"])\n",
    "    return model\n",
    "\n",
    "def train_model(X_train, y_train, X_validate, y_validate, params):\n",
    "    model = create_model(X_train.shape[1], y_train.shape[1], params)\n",
    "#     model.summary()\n",
    "    callbacks = [EarlyStopping(monitor=\"acc\", min_delta=0.05, patience=2, verbose=2, mode=\"max\")]\n",
    "    history = model.fit(X_train, y_train, validation_data=[X_validate, y_validate],\n",
    "                        epochs=10, batch_size=128, shuffle=\"batch\", callbacks=callbacks)\n",
    "    return history, model\n",
    "\n",
    "\n",
    "hypteropt = talos.Scan(x=X_train, y=Y_onehot_train,\n",
    "                       x_val=X_test, y_val=Y_onehot_test,\n",
    "                       params=params,\n",
    "                       dataset_name=\"pancan_gtex\",\n",
    "                       experiment_no=\"1\",\n",
    "                       model=train_model,\n",
    "                       grid_downsample=1,\n",
    "                       experimental_functional_support=True)"
   ]
  },
  {
   "cell_type": "code",
   "execution_count": 32,
   "metadata": {},
   "outputs": [],
   "source": [
    "report = talos.Reporting(\"pancan_gtex_1.csv\")"
   ]
  },
  {
   "cell_type": "code",
   "execution_count": 33,
   "metadata": {},
   "outputs": [
    {
     "data": {
      "text/html": [
       "<div>\n",
       "<style scoped>\n",
       "    .dataframe tbody tr th:only-of-type {\n",
       "        vertical-align: middle;\n",
       "    }\n",
       "\n",
       "    .dataframe tbody tr th {\n",
       "        vertical-align: top;\n",
       "    }\n",
       "\n",
       "    .dataframe thead th {\n",
       "        text-align: right;\n",
       "    }\n",
       "</style>\n",
       "<table border=\"1\" class=\"dataframe\">\n",
       "  <thead>\n",
       "    <tr style=\"text-align: right;\">\n",
       "      <th></th>\n",
       "      <th>val_acc</th>\n",
       "      <th>width</th>\n",
       "    </tr>\n",
       "  </thead>\n",
       "  <tbody>\n",
       "    <tr>\n",
       "      <th>14</th>\n",
       "      <td>0.992044</td>\n",
       "      <td>17</td>\n",
       "    </tr>\n",
       "    <tr>\n",
       "      <th>4</th>\n",
       "      <td>0.991723</td>\n",
       "      <td>30</td>\n",
       "    </tr>\n",
       "    <tr>\n",
       "      <th>12</th>\n",
       "      <td>0.991626</td>\n",
       "      <td>18</td>\n",
       "    </tr>\n",
       "    <tr>\n",
       "      <th>15</th>\n",
       "      <td>0.991493</td>\n",
       "      <td>29</td>\n",
       "    </tr>\n",
       "    <tr>\n",
       "      <th>1</th>\n",
       "      <td>0.991445</td>\n",
       "      <td>16</td>\n",
       "    </tr>\n",
       "    <tr>\n",
       "      <th>6</th>\n",
       "      <td>0.991378</td>\n",
       "      <td>25</td>\n",
       "    </tr>\n",
       "    <tr>\n",
       "      <th>13</th>\n",
       "      <td>0.991300</td>\n",
       "      <td>21</td>\n",
       "    </tr>\n",
       "    <tr>\n",
       "      <th>11</th>\n",
       "      <td>0.991257</td>\n",
       "      <td>24</td>\n",
       "    </tr>\n",
       "    <tr>\n",
       "      <th>0</th>\n",
       "      <td>0.991233</td>\n",
       "      <td>20</td>\n",
       "    </tr>\n",
       "    <tr>\n",
       "      <th>7</th>\n",
       "      <td>0.991166</td>\n",
       "      <td>22</td>\n",
       "    </tr>\n",
       "    <tr>\n",
       "      <th>8</th>\n",
       "      <td>0.991033</td>\n",
       "      <td>26</td>\n",
       "    </tr>\n",
       "    <tr>\n",
       "      <th>3</th>\n",
       "      <td>0.990979</td>\n",
       "      <td>19</td>\n",
       "    </tr>\n",
       "    <tr>\n",
       "      <th>2</th>\n",
       "      <td>0.990785</td>\n",
       "      <td>28</td>\n",
       "    </tr>\n",
       "    <tr>\n",
       "      <th>5</th>\n",
       "      <td>0.990501</td>\n",
       "      <td>31</td>\n",
       "    </tr>\n",
       "    <tr>\n",
       "      <th>10</th>\n",
       "      <td>0.990489</td>\n",
       "      <td>27</td>\n",
       "    </tr>\n",
       "    <tr>\n",
       "      <th>9</th>\n",
       "      <td>0.990374</td>\n",
       "      <td>23</td>\n",
       "    </tr>\n",
       "  </tbody>\n",
       "</table>\n",
       "</div>"
      ],
      "text/plain": [
       "     val_acc  width\n",
       "14  0.992044     17\n",
       "4   0.991723     30\n",
       "12  0.991626     18\n",
       "15  0.991493     29\n",
       "1   0.991445     16\n",
       "6   0.991378     25\n",
       "13  0.991300     21\n",
       "11  0.991257     24\n",
       "0   0.991233     20\n",
       "7   0.991166     22\n",
       "8   0.991033     26\n",
       "3   0.990979     19\n",
       "2   0.990785     28\n",
       "5   0.990501     31\n",
       "10  0.990489     27\n",
       "9   0.990374     23"
      ]
     },
     "execution_count": 33,
     "metadata": {},
     "output_type": "execute_result"
    }
   ],
   "source": [
    "report.table()"
   ]
  }
 ],
 "metadata": {
  "kernelspec": {
   "display_name": "Python 3",
   "language": "python",
   "name": "python3"
  },
  "language_info": {
   "codemirror_mode": {
    "name": "ipython",
    "version": 3
   },
   "file_extension": ".py",
   "mimetype": "text/x-python",
   "name": "python",
   "nbconvert_exporter": "python",
   "pygments_lexer": "ipython3",
   "version": "3.6.6"
  }
 },
 "nbformat": 4,
 "nbformat_minor": 2
}
