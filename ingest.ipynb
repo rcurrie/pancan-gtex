{
 "cells": [
  {
   "cell_type": "markdown",
   "metadata": {},
   "source": [
    "# Ingest Treehouse\n",
    "\n",
    "Download the [UCSC Treehouse](https://treehousegenomics.soe.ucsc.edu/public-data/) compendium RNA-Seq expression and clinical labels from [Xena](https://xenabrowser.net), wrangle, prune and store in a single h5 file for use in the training notebook."
   ]
  },
  {
   "cell_type": "code",
   "execution_count": 1,
   "metadata": {},
   "outputs": [],
   "source": [
    "import os\n",
    "import numpy as np\n",
    "import pandas as pd\n",
    "\n",
    "# Switch to a scratch data directory so all paths are local\n",
    "os.makedirs(os.path.expanduser(\"~/data/treehouse\"), exist_ok=True)\n",
    "os.chdir(os.path.expanduser(\"~/data/treehouse\"))"
   ]
  },
  {
   "cell_type": "markdown",
   "metadata": {},
   "source": [
    "## Ingest Samples"
   ]
  },
  {
   "cell_type": "code",
   "execution_count": 2,
   "metadata": {},
   "outputs": [],
   "source": [
    "# Download raw files from xena\n",
    "!wget -q -N https://xena.treehouse.gi.ucsc.edu/download/TreehousePEDv8_unique_hugo_log2_tpm_plus_1.2018-07-25.tsv"
   ]
  },
  {
   "cell_type": "code",
   "execution_count": 3,
   "metadata": {},
   "outputs": [
    {
     "name": "stdout",
     "output_type": "stream",
     "text": [
      "CPU times: user 43 µs, sys: 55 µs, total: 98 µs\n",
      "Wall time: 107 µs\n"
     ]
    }
   ],
   "source": [
    "%%time\n",
    "# Convert to float32, Transpose to ML style rows = samples and hdf for significantly faster reading\n",
    "if not os.path.exists(os.path.expanduser(\"treehouse.T.fp32.h5\")):\n",
    "    pd.read_csv(os.path.expanduser(\"TreehousePEDv8_unique_hugo_log2_tpm_plus_1.2018-07-25.tsv\"), \n",
    "                sep=\"\\t\", index_col=0, engine='c') \\\n",
    "        .astype(np.float32).T \\\n",
    "        .to_hdf(os.path.expanduser(\"treehouse.T.fp32.h5\"), \"expression\", mode=\"w\", format=\"fixed\")"
   ]
  },
  {
   "cell_type": "code",
   "execution_count": 4,
   "metadata": {},
   "outputs": [
    {
     "name": "stdout",
     "output_type": "stream",
     "text": [
      "Ingested 11427 samples with 58581 features\n"
     ]
    },
    {
     "data": {
      "text/html": [
       "<div>\n",
       "<style scoped>\n",
       "    .dataframe tbody tr th:only-of-type {\n",
       "        vertical-align: middle;\n",
       "    }\n",
       "\n",
       "    .dataframe tbody tr th {\n",
       "        vertical-align: top;\n",
       "    }\n",
       "\n",
       "    .dataframe thead th {\n",
       "        text-align: right;\n",
       "    }\n",
       "</style>\n",
       "<table border=\"1\" class=\"dataframe\">\n",
       "  <thead>\n",
       "    <tr style=\"text-align: right;\">\n",
       "      <th>Gene</th>\n",
       "      <th>5S_rRNA</th>\n",
       "      <th>5_8S_rRNA</th>\n",
       "      <th>7SK</th>\n",
       "      <th>A1BG</th>\n",
       "      <th>A1BG-AS1</th>\n",
       "      <th>A1CF</th>\n",
       "      <th>A2M</th>\n",
       "      <th>A2M-AS1</th>\n",
       "      <th>A2ML1</th>\n",
       "      <th>A2ML1-AS1</th>\n",
       "      <th>...</th>\n",
       "      <th>snoU2-30</th>\n",
       "      <th>snoU2_19</th>\n",
       "      <th>snoU83B</th>\n",
       "      <th>snoZ196</th>\n",
       "      <th>snoZ278</th>\n",
       "      <th>snoZ40</th>\n",
       "      <th>snoZ6</th>\n",
       "      <th>snosnR66</th>\n",
       "      <th>uc_338</th>\n",
       "      <th>yR211F11.2</th>\n",
       "    </tr>\n",
       "  </thead>\n",
       "  <tbody>\n",
       "    <tr>\n",
       "      <th>THR15_0330_S01</th>\n",
       "      <td>0.0</td>\n",
       "      <td>0.0</td>\n",
       "      <td>0.00</td>\n",
       "      <td>5.140000</td>\n",
       "      <td>1.220000</td>\n",
       "      <td>0.00</td>\n",
       "      <td>147.210022</td>\n",
       "      <td>0.25</td>\n",
       "      <td>0.00</td>\n",
       "      <td>0.0</td>\n",
       "      <td>...</td>\n",
       "      <td>0.0</td>\n",
       "      <td>0.0</td>\n",
       "      <td>0.0</td>\n",
       "      <td>0.0</td>\n",
       "      <td>0.0</td>\n",
       "      <td>0.0</td>\n",
       "      <td>0.0</td>\n",
       "      <td>0.0</td>\n",
       "      <td>2.500000</td>\n",
       "      <td>0.00</td>\n",
       "    </tr>\n",
       "    <tr>\n",
       "      <th>THR29_0776_S01</th>\n",
       "      <td>0.0</td>\n",
       "      <td>0.0</td>\n",
       "      <td>0.06</td>\n",
       "      <td>31.359997</td>\n",
       "      <td>4.030000</td>\n",
       "      <td>0.00</td>\n",
       "      <td>39.079998</td>\n",
       "      <td>0.93</td>\n",
       "      <td>0.04</td>\n",
       "      <td>0.0</td>\n",
       "      <td>...</td>\n",
       "      <td>0.0</td>\n",
       "      <td>0.0</td>\n",
       "      <td>0.0</td>\n",
       "      <td>0.0</td>\n",
       "      <td>0.0</td>\n",
       "      <td>0.0</td>\n",
       "      <td>0.0</td>\n",
       "      <td>0.0</td>\n",
       "      <td>5.470000</td>\n",
       "      <td>0.00</td>\n",
       "    </tr>\n",
       "    <tr>\n",
       "      <th>THR14_1221_S01</th>\n",
       "      <td>0.0</td>\n",
       "      <td>0.0</td>\n",
       "      <td>0.78</td>\n",
       "      <td>2.680000</td>\n",
       "      <td>1.730000</td>\n",
       "      <td>0.01</td>\n",
       "      <td>28.330002</td>\n",
       "      <td>0.25</td>\n",
       "      <td>0.40</td>\n",
       "      <td>0.0</td>\n",
       "      <td>...</td>\n",
       "      <td>0.0</td>\n",
       "      <td>0.0</td>\n",
       "      <td>0.0</td>\n",
       "      <td>0.0</td>\n",
       "      <td>0.0</td>\n",
       "      <td>0.0</td>\n",
       "      <td>0.0</td>\n",
       "      <td>0.0</td>\n",
       "      <td>3.510000</td>\n",
       "      <td>0.15</td>\n",
       "    </tr>\n",
       "    <tr>\n",
       "      <th>THR11_0247_S01</th>\n",
       "      <td>0.0</td>\n",
       "      <td>0.0</td>\n",
       "      <td>1.94</td>\n",
       "      <td>8.280001</td>\n",
       "      <td>8.580001</td>\n",
       "      <td>0.14</td>\n",
       "      <td>465.710022</td>\n",
       "      <td>1.05</td>\n",
       "      <td>0.23</td>\n",
       "      <td>0.0</td>\n",
       "      <td>...</td>\n",
       "      <td>0.0</td>\n",
       "      <td>0.0</td>\n",
       "      <td>0.0</td>\n",
       "      <td>0.0</td>\n",
       "      <td>0.0</td>\n",
       "      <td>0.0</td>\n",
       "      <td>0.0</td>\n",
       "      <td>0.0</td>\n",
       "      <td>11.400000</td>\n",
       "      <td>0.00</td>\n",
       "    </tr>\n",
       "    <tr>\n",
       "      <th>THR08_0162_S01</th>\n",
       "      <td>0.0</td>\n",
       "      <td>0.0</td>\n",
       "      <td>0.00</td>\n",
       "      <td>17.389999</td>\n",
       "      <td>21.900002</td>\n",
       "      <td>0.00</td>\n",
       "      <td>0.730000</td>\n",
       "      <td>0.12</td>\n",
       "      <td>0.14</td>\n",
       "      <td>0.0</td>\n",
       "      <td>...</td>\n",
       "      <td>0.0</td>\n",
       "      <td>0.0</td>\n",
       "      <td>0.0</td>\n",
       "      <td>0.0</td>\n",
       "      <td>0.0</td>\n",
       "      <td>0.0</td>\n",
       "      <td>0.0</td>\n",
       "      <td>0.0</td>\n",
       "      <td>49.880005</td>\n",
       "      <td>0.00</td>\n",
       "    </tr>\n",
       "  </tbody>\n",
       "</table>\n",
       "<p>5 rows × 58581 columns</p>\n",
       "</div>"
      ],
      "text/plain": [
       "Gene            5S_rRNA  5_8S_rRNA   7SK       A1BG   A1BG-AS1  A1CF  \\\n",
       "THR15_0330_S01      0.0        0.0  0.00   5.140000   1.220000  0.00   \n",
       "THR29_0776_S01      0.0        0.0  0.06  31.359997   4.030000  0.00   \n",
       "THR14_1221_S01      0.0        0.0  0.78   2.680000   1.730000  0.01   \n",
       "THR11_0247_S01      0.0        0.0  1.94   8.280001   8.580001  0.14   \n",
       "THR08_0162_S01      0.0        0.0  0.00  17.389999  21.900002  0.00   \n",
       "\n",
       "Gene                   A2M  A2M-AS1  A2ML1  A2ML1-AS1  ...  snoU2-30  \\\n",
       "THR15_0330_S01  147.210022     0.25   0.00        0.0  ...       0.0   \n",
       "THR29_0776_S01   39.079998     0.93   0.04        0.0  ...       0.0   \n",
       "THR14_1221_S01   28.330002     0.25   0.40        0.0  ...       0.0   \n",
       "THR11_0247_S01  465.710022     1.05   0.23        0.0  ...       0.0   \n",
       "THR08_0162_S01    0.730000     0.12   0.14        0.0  ...       0.0   \n",
       "\n",
       "Gene            snoU2_19  snoU83B  snoZ196  snoZ278  snoZ40  snoZ6  snosnR66  \\\n",
       "THR15_0330_S01       0.0      0.0      0.0      0.0     0.0    0.0       0.0   \n",
       "THR29_0776_S01       0.0      0.0      0.0      0.0     0.0    0.0       0.0   \n",
       "THR14_1221_S01       0.0      0.0      0.0      0.0     0.0    0.0       0.0   \n",
       "THR11_0247_S01       0.0      0.0      0.0      0.0     0.0    0.0       0.0   \n",
       "THR08_0162_S01       0.0      0.0      0.0      0.0     0.0    0.0       0.0   \n",
       "\n",
       "Gene               uc_338  yR211F11.2  \n",
       "THR15_0330_S01   2.500000        0.00  \n",
       "THR29_0776_S01   5.470000        0.00  \n",
       "THR14_1221_S01   3.510000        0.15  \n",
       "THR11_0247_S01  11.400000        0.00  \n",
       "THR08_0162_S01  49.880005        0.00  \n",
       "\n",
       "[5 rows x 58581 columns]"
      ]
     },
     "execution_count": 4,
     "metadata": {},
     "output_type": "execute_result"
    }
   ],
   "source": [
    "# Convert back to TPM\n",
    "all_samples = pd.read_hdf(\"treehouse.T.fp32.h5\").apply(np.exp2).subtract(1.0).clip(lower=0.0)\n",
    "print(\"Ingested {} samples with {} features\".format(all_samples.shape[0], all_samples.shape[1]))\n",
    "all_samples.head()"
   ]
  },
  {
   "cell_type": "code",
   "execution_count": 5,
   "metadata": {},
   "outputs": [
    {
     "data": {
      "text/plain": [
       "THR15_0330_S01     1.000000e+06\n",
       "TCGA-VF-A8AE-01    1.000003e+06\n",
       "TCGA-BR-8080-01    1.000001e+06\n",
       "TCGA-IB-AAUP-01    1.000001e+06\n",
       "TCGA-E2-A1IE-01    1.000004e+06\n",
       "TCGA-BR-8588-01    1.000006e+06\n",
       "dtype: float64"
      ]
     },
     "execution_count": 5,
     "metadata": {},
     "output_type": "execute_result"
    }
   ],
   "source": [
    "# Check that TPM (transcripts per million) per sample sum to 1M\n",
    "all_samples.iloc[::all_samples.shape[0]//5].sum(axis=1)"
   ]
  },
  {
   "cell_type": "markdown",
   "metadata": {},
   "source": [
    "## Prune Features\n",
    "Reduce the number of features/genes from ~20k to ~5k so that the samples to features ratio is more in line with typical machine learning data sets. If there were significantly mroe training samples this could be purely computational but for now we'll use COSMIC+KEGG genes to 'feature engineer' leveraging current biological knowledge. This also reduces the size of the background file required when computing the explantion for a classification so that it can be run in resonable time in a Colab notebook."
   ]
  },
  {
   "cell_type": "code",
   "execution_count": 6,
   "metadata": {},
   "outputs": [
    {
     "name": "stdout",
     "output_type": "stream",
     "text": [
      "Pruning from 58581 down to 5545 features/genes\n"
     ]
    }
   ],
   "source": [
    "# Load KEGG pathway genes (http://software.broadinstitute.org/gsea/msigdb/)\n",
    "with open(\"c2.cp.kegg.v6.2.symbols.gmt\") as f:\n",
    "    kegg_genes = list(set().union(*[line.strip().split(\"\\t\")[2:] for line in f.readlines()]))\n",
    "\n",
    "# Load COSMIC Cancer Genes (https://cancer.sanger.ac.uk/census)\n",
    "cosmic_genes = pd.read_csv(\"cosmic-26-11-2018.tsv\", sep=\"\\t\")[\"Gene Symbol\"].values\n",
    "\n",
    "# Prune to only genes in KEGG and COSMIC\n",
    "subset_of_genes = list(set(kegg_genes).union(set(cosmic_genes)))\n",
    "\n",
    "pruned_samples = all_samples.drop(labels=(set(all_samples.columns) - set(subset_of_genes)), axis=1)\n",
    "\n",
    "print(\"Pruning from {} down to {} features/genes\".format(all_samples.shape[1], pruned_samples.shape[1]))"
   ]
  },
  {
   "cell_type": "markdown",
   "metadata": {},
   "source": [
    "## Ingest Labels"
   ]
  },
  {
   "cell_type": "code",
   "execution_count": 7,
   "metadata": {},
   "outputs": [],
   "source": [
    "!wget -q -N https://xena.treehouse.gi.ucsc.edu/download/TreehousePEDv8_clinical_metadata.2018-07-25.tsv"
   ]
  },
  {
   "cell_type": "code",
   "execution_count": 8,
   "metadata": {},
   "outputs": [
    {
     "name": "stdout",
     "output_type": "stream",
     "text": [
      "disease       object\n",
      "age_at_dx    float64\n",
      "pedaya        object\n",
      "gender        object\n",
      "dtype: object\n"
     ]
    },
    {
     "data": {
      "text/html": [
       "<div>\n",
       "<style scoped>\n",
       "    .dataframe tbody tr th:only-of-type {\n",
       "        vertical-align: middle;\n",
       "    }\n",
       "\n",
       "    .dataframe tbody tr th {\n",
       "        vertical-align: top;\n",
       "    }\n",
       "\n",
       "    .dataframe thead th {\n",
       "        text-align: right;\n",
       "    }\n",
       "</style>\n",
       "<table border=\"1\" class=\"dataframe\">\n",
       "  <thead>\n",
       "    <tr style=\"text-align: right;\">\n",
       "      <th></th>\n",
       "      <th>disease</th>\n",
       "      <th>age_at_dx</th>\n",
       "      <th>pedaya</th>\n",
       "      <th>gender</th>\n",
       "    </tr>\n",
       "    <tr>\n",
       "      <th>th_sampleid</th>\n",
       "      <th></th>\n",
       "      <th></th>\n",
       "      <th></th>\n",
       "      <th></th>\n",
       "    </tr>\n",
       "  </thead>\n",
       "  <tbody>\n",
       "    <tr>\n",
       "      <th>TARGET-10-PAKSWW-03</th>\n",
       "      <td>acute lymphoblastic leukemia</td>\n",
       "      <td>15.11</td>\n",
       "      <td>Yes, age &lt; 30 years</td>\n",
       "      <td>male</td>\n",
       "    </tr>\n",
       "    <tr>\n",
       "      <th>TCGA-66-2757-01</th>\n",
       "      <td>lung squamous cell carcinoma</td>\n",
       "      <td>65.00</td>\n",
       "      <td>No</td>\n",
       "      <td>female</td>\n",
       "    </tr>\n",
       "    <tr>\n",
       "      <th>TCGA-C5-A3HD-01</th>\n",
       "      <td>cervical &amp; endocervical cancer</td>\n",
       "      <td>51.00</td>\n",
       "      <td>No</td>\n",
       "      <td>female</td>\n",
       "    </tr>\n",
       "    <tr>\n",
       "      <th>TCGA-EK-A2RC-01</th>\n",
       "      <td>cervical &amp; endocervical cancer</td>\n",
       "      <td>33.00</td>\n",
       "      <td>No</td>\n",
       "      <td>female</td>\n",
       "    </tr>\n",
       "    <tr>\n",
       "      <th>TCGA-P8-A5KC-01</th>\n",
       "      <td>pheochromocytoma &amp; paraganglioma</td>\n",
       "      <td>48.00</td>\n",
       "      <td>No</td>\n",
       "      <td>male</td>\n",
       "    </tr>\n",
       "    <tr>\n",
       "      <th>THR33_1146_S01</th>\n",
       "      <td>medulloblastoma</td>\n",
       "      <td>8.00</td>\n",
       "      <td>Yes, age &lt; 30 years</td>\n",
       "      <td>male</td>\n",
       "    </tr>\n",
       "  </tbody>\n",
       "</table>\n",
       "</div>"
      ],
      "text/plain": [
       "                                              disease  age_at_dx  \\\n",
       "th_sampleid                                                        \n",
       "TARGET-10-PAKSWW-03      acute lymphoblastic leukemia      15.11   \n",
       "TCGA-66-2757-01          lung squamous cell carcinoma      65.00   \n",
       "TCGA-C5-A3HD-01        cervical & endocervical cancer      51.00   \n",
       "TCGA-EK-A2RC-01        cervical & endocervical cancer      33.00   \n",
       "TCGA-P8-A5KC-01      pheochromocytoma & paraganglioma      48.00   \n",
       "THR33_1146_S01                        medulloblastoma       8.00   \n",
       "\n",
       "                                  pedaya  gender  \n",
       "th_sampleid                                       \n",
       "TARGET-10-PAKSWW-03  Yes, age < 30 years    male  \n",
       "TCGA-66-2757-01                       No  female  \n",
       "TCGA-C5-A3HD-01                       No  female  \n",
       "TCGA-EK-A2RC-01                       No  female  \n",
       "TCGA-P8-A5KC-01                       No    male  \n",
       "THR33_1146_S01       Yes, age < 30 years    male  "
      ]
     },
     "execution_count": 8,
     "metadata": {},
     "output_type": "execute_result"
    }
   ],
   "source": [
    "all_labels = pd.read_csv(\"TreehousePEDv8_clinical_metadata.2018-07-25.tsv\", \n",
    "                         header=0, sep=\"\\t\", index_col=0).sort_index(axis=\"index\")\n",
    "\n",
    "print(all_labels.dtypes)\n",
    "\n",
    "all_labels.iloc[::all_labels.shape[0]//5]"
   ]
  },
  {
   "cell_type": "markdown",
   "metadata": {},
   "source": [
    "## Prune\n",
    "\n",
    "Drop samples with missing values for fields we want to train on, or that have too few of the class and transform field values for training etc..."
   ]
  },
  {
   "cell_type": "code",
   "execution_count": 9,
   "metadata": {},
   "outputs": [
    {
     "name": "stdout",
     "output_type": "stream",
     "text": [
      "Starting with 11427 labeled sample pairs\n",
      "11426 with disease\n",
      "Dropping 66 labels where the disease has < 100 samples\n",
      "10208 with >= 100 samples of the disease\n",
      "Number of unique labels (diseases): 29\n",
      "10208 labels after pruning\n"
     ]
    },
    {
     "data": {
      "text/html": [
       "<div>\n",
       "<style scoped>\n",
       "    .dataframe tbody tr th:only-of-type {\n",
       "        vertical-align: middle;\n",
       "    }\n",
       "\n",
       "    .dataframe tbody tr th {\n",
       "        vertical-align: top;\n",
       "    }\n",
       "\n",
       "    .dataframe thead th {\n",
       "        text-align: right;\n",
       "    }\n",
       "</style>\n",
       "<table border=\"1\" class=\"dataframe\">\n",
       "  <thead>\n",
       "    <tr style=\"text-align: right;\">\n",
       "      <th></th>\n",
       "      <th>disease</th>\n",
       "    </tr>\n",
       "  </thead>\n",
       "  <tbody>\n",
       "    <tr>\n",
       "      <th>TARGET-10-PAKSWW-03</th>\n",
       "      <td>acute lymphoblastic leukemia</td>\n",
       "    </tr>\n",
       "    <tr>\n",
       "      <th>TCGA-56-A49D-01</th>\n",
       "      <td>lung squamous cell carcinoma</td>\n",
       "    </tr>\n",
       "    <tr>\n",
       "      <th>TCGA-BJ-A18Z-01</th>\n",
       "      <td>thyroid carcinoma</td>\n",
       "    </tr>\n",
       "    <tr>\n",
       "      <th>TCGA-E2-A14P-01</th>\n",
       "      <td>breast invasive carcinoma</td>\n",
       "    </tr>\n",
       "    <tr>\n",
       "      <th>TCGA-KK-A8IL-01</th>\n",
       "      <td>prostate adenocarcinoma</td>\n",
       "    </tr>\n",
       "    <tr>\n",
       "      <th>THR33_1145_S01</th>\n",
       "      <td>medulloblastoma</td>\n",
       "    </tr>\n",
       "  </tbody>\n",
       "</table>\n",
       "</div>"
      ],
      "text/plain": [
       "                                          disease\n",
       "TARGET-10-PAKSWW-03  acute lymphoblastic leukemia\n",
       "TCGA-56-A49D-01      lung squamous cell carcinoma\n",
       "TCGA-BJ-A18Z-01                 thyroid carcinoma\n",
       "TCGA-E2-A14P-01         breast invasive carcinoma\n",
       "TCGA-KK-A8IL-01           prostate adenocarcinoma\n",
       "THR33_1145_S01                    medulloblastoma"
      ]
     },
     "execution_count": 9,
     "metadata": {},
     "output_type": "execute_result"
    }
   ],
   "source": [
    "# Include only labels for samples that we have\n",
    "pruned_labels = all_labels.loc[all_labels.index.intersection(pruned_samples.index)]\n",
    "print(\"Starting with {} labeled sample pairs\".format(pruned_labels.shape[0]))\n",
    "\n",
    "# Drop any missing the label we plan to classify\n",
    "pruned_labels = pruned_labels.dropna(subset=[\"disease\"])\n",
    "print(pruned_labels.shape[0], \"with disease\")\n",
    "\n",
    "# Drop the other columns as they may have NaN or mixed types which will have issues later exporting\n",
    "pruned_labels = pruned_labels[[\"disease\"]]\n",
    "\n",
    "# Drop diseases with less then 50 examples\n",
    "counts = pruned_labels.disease.value_counts()\n",
    "pruned_labels = pruned_labels[pruned_labels.disease.isin(counts[counts >= 100].index)]\n",
    "print(\"Dropping {} labels where the disease has < 100 samples\".format(counts[counts < 100].index.shape[0]))\n",
    "print(pruned_labels.shape[0], \"with >= 100 samples of the disease\")\n",
    "\n",
    "print(\"Number of unique labels (diseases):\", len(pruned_labels.disease.unique()))\n",
    "\n",
    "print(\"{} labels after pruning\".format(pruned_labels.shape[0]))\n",
    "pruned_labels.iloc[::pruned_labels.shape[0]//5]"
   ]
  },
  {
   "cell_type": "markdown",
   "metadata": {},
   "source": [
    "## Export\n",
    "\n",
    "Export the pruned dataset with labels as an h5 file."
   ]
  },
  {
   "cell_type": "code",
   "execution_count": 10,
   "metadata": {},
   "outputs": [
    {
     "name": "stdout",
     "output_type": "stream",
     "text": [
      "Exporting 10208 samples\n",
      "CPU times: user 4.12 s, sys: 3.17 s, total: 7.29 s\n",
      "Wall time: 7.78 s\n"
     ]
    }
   ],
   "source": [
    "%%time\n",
    "# Include only ids that we have both sample and label for\n",
    "sample_ids = pruned_samples.index.intersection(pruned_labels.index)\n",
    "print(\"Exporting {} samples\".format(len(sample_ids)))\n",
    "\n",
    "# NOTE: Setting complevel to 9 reduces the size of the resulting h5 file from 3G down to 2.1G\n",
    "# but increases the read time from 2.79s to 20.8s and the write time from 19.9s to 25m\n",
    "pruned_samples.loc[sample_ids].sort_index(axis=\"index\").sort_index(axis=\"columns\").to_hdf(\n",
    "    os.path.expanduser(\"treehouse-pruned.h5\"), key=\"samples\", mode=\"w\", format=\"fixed\", complevel=0)\n",
    "pruned_labels.loc[sample_ids].sort_index(axis=\"index\").sort_index(axis=\"columns\").to_hdf(\n",
    "    os.path.expanduser(\"treehouse-pruned.h5\"), key=\"labels\", mode=\"a\", format=\"fixed\", complevel=0)"
   ]
  }
 ],
 "metadata": {
  "kernelspec": {
   "display_name": "Python 3",
   "language": "python",
   "name": "python3"
  },
  "language_info": {
   "codemirror_mode": {
    "name": "ipython",
    "version": 3
   },
   "file_extension": ".py",
   "mimetype": "text/x-python",
   "name": "python",
   "nbconvert_exporter": "python",
   "pygments_lexer": "ipython3",
   "version": "3.6.7"
  }
 },
 "nbformat": 4,
 "nbformat_minor": 2
}
