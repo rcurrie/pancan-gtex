{
  "nbformat": 4,
  "nbformat_minor": 0,
  "metadata": {
    "colab": {
      "name": "infer.ipynb",
      "version": "0.3.2",
      "provenance": [],
      "include_colab_link": true
    },
    "kernelspec": {
      "name": "python3",
      "display_name": "Python 3"
    }
  },
  "cells": [
    {
      "cell_type": "markdown",
      "metadata": {
        "id": "view-in-github",
        "colab_type": "text"
      },
      "source": [
        "<a href=\"https://colab.research.google.com/github/rcurrie/pancan-gtex/blob/master/infer.ipynb\" target=\"_parent\"><img src=\"https://colab.research.google.com/assets/colab-badge.svg\" alt=\"Open In Colab\"/></a>"
      ]
    },
    {
      "metadata": {
        "id": "nu9iMprDoa0z",
        "colab_type": "code",
        "colab": {}
      },
      "cell_type": "code",
      "source": [
        "import sys\n",
        "import os\n",
        "import json\n",
        "import requests\n",
        "import numpy as np\n",
        "import pandas as pd\n",
        "import tensorflow as tf\n",
        "from IPython.core.display import display, HTML\n",
        "\n",
        "# Switch to a scratch data directory so all paths are local\n",
        "os.makedirs(os.path.expanduser(\"~/data/pancan-gtex\"), exist_ok=True)\n",
        "os.chdir(os.path.expanduser(\"~/data/pancan-gtex\"))"
      ],
      "execution_count": 0,
      "outputs": []
    },
    {
      "metadata": {
        "id": "7qHNnP_FohrJ",
        "colab_type": "code",
        "outputId": "a8d622d6-6c48-4f17-c97a-e6c02325fb00",
        "colab": {
          "base_uri": "https://localhost:8080/",
          "height": 374
        }
      },
      "cell_type": "code",
      "source": [
        "# Load params and trained model from S3\n",
        "r = requests.get(\"https://s3.nautilus.optiputer.net/stuartlab/rcurrie/pancan-gtex/models/params.json\")\n",
        "params = r.json()\n",
        "\n",
        "r = requests.get(\"https://s3.nautilus.optiputer.net/stuartlab/rcurrie/pancan-gtex/models/model.h5\")\n",
        "import tempfile\n",
        "temp_path = \"/tmp/{}.h5\".format(next(tempfile._get_candidate_names()))\n",
        "open(temp_path, \"wb\").write(r.content)\n",
        "\n",
        "model = tf.keras.models.load_model(temp_path)\n",
        "os.remove(temp_path)\n",
        "model.summary()"
      ],
      "execution_count": 0,
      "outputs": [
        {
          "output_type": "stream",
          "text": [
            "_________________________________________________________________\n",
            "Layer (type)                 Output Shape              Param #   \n",
            "=================================================================\n",
            "input_1 (InputLayer)         (None, 8160)              0         \n",
            "_________________________________________________________________\n",
            "batch_normalization (BatchNo (None, 8160)              32640     \n",
            "_________________________________________________________________\n",
            "dense (Dense)                (None, 64)                522304    \n",
            "_________________________________________________________________\n",
            "dropout (Dropout)            (None, 64)                0         \n",
            "_________________________________________________________________\n",
            "dense_1 (Dense)              (None, 64)                4160      \n",
            "_________________________________________________________________\n",
            "dropout_1 (Dropout)          (None, 64)                0         \n",
            "_________________________________________________________________\n",
            "dense_2 (Dense)              (None, 34)                2210      \n",
            "=================================================================\n",
            "Total params: 561,314\n",
            "Trainable params: 544,994\n",
            "Non-trainable params: 16,320\n",
            "_________________________________________________________________\n"
          ],
          "name": "stdout"
        }
      ]
    },
    {
      "metadata": {
        "id": "z-FAwI6OoqUu",
        "colab_type": "code",
        "colab": {}
      },
      "cell_type": "code",
      "source": [
        ""
      ],
      "execution_count": 0,
      "outputs": []
    }
  ]
}